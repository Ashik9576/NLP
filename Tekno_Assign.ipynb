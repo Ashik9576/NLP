{
  "nbformat": 4,
  "nbformat_minor": 0,
  "metadata": {
    "colab": {
      "name": "Tekno_Assign.ipynb",
      "provenance": [],
      "collapsed_sections": [],
      "authorship_tag": "ABX9TyMq6QAp/+GM4goOb2Zw2EQt",
      "include_colab_link": true
    },
    "kernelspec": {
      "name": "python3",
      "display_name": "Python 3"
    },
    "language_info": {
      "name": "python"
    }
  },
  "cells": [
    {
      "cell_type": "markdown",
      "metadata": {
        "id": "view-in-github",
        "colab_type": "text"
      },
      "source": [
        "<a href=\"https://colab.research.google.com/github/Ashik9576/NLP/blob/main/Tekno_Assign.ipynb\" target=\"_parent\"><img src=\"https://colab.research.google.com/assets/colab-badge.svg\" alt=\"Open In Colab\"/></a>"
      ]
    },
    {
      "cell_type": "markdown",
      "source": [
        "# **Key Objectives**\n",
        "Prepare the following deliverables and present under time constraints with the limited\n",
        "information and with logical assumptions as required. Kindly study the details as mentioned\n",
        "in the assignment. Kindly note any references and assumptions at the bottom."
      ],
      "metadata": {
        "id": "TN8hGHge3wvh"
      }
    },
    {
      "cell_type": "markdown",
      "source": [
        "# **Key Deliverables**\n",
        "1. Using NLP, classify questions into 1 umbrella term to form groups of similar questions\n",
        "2. Associate a risk score per term"
      ],
      "metadata": {
        "id": "pByja11HwmdA"
      }
    },
    {
      "cell_type": "markdown",
      "source": [
        "# **Context and Data**\n",
        "The dataset provided refers to the assessment of level of risk for specific areas and in the context of a construction site. The auditors need to proceed with different type of assessment replying to specific questions and judge the level of risk (At risk or Positive). A risk rating is associated to every risk based on the judgement of the auditors. Refer to the dataset provided to complete the requested key deliverables.\n",
        "\n",
        "A brief explanation of the data is given here:\n",
        "\n",
        "* Area Id (integer) - Unique id per area\n",
        "* Area (string) - Area names\n",
        "* Assessment (string) - Groups of Assessments\n",
        "* Sub Assessments (string) - Groups of Sub Assessments\n",
        "* Assessment Week (date) - Week in which the assessment was carried out\n",
        "* Assessment Id (int) - Unique id per assessment\n",
        "* Asset Id (int) - Unique id per asset\n",
        "* Week range (string) - Week in which the assessment was carried out\n",
        "* Questions (string) - Questions asked per assessment\n",
        "* Risk or Positive (string) - Was the assessment deemed risky or not\n",
        "* Risk rating (string) - Risk rating of the assessment\n",
        "* Assessment date (date) - Exact date when the assessment was carried out\n",
        "* Work Group Id (int) - Work Group Id of the assessment (One Work Group can have\n",
        "many assessments)"
      ],
      "metadata": {
        "id": "0Geckr4n33bi"
      }
    },
    {
      "cell_type": "markdown",
      "source": [
        "# **Importing Required Libraries and mounting drive**"
      ],
      "metadata": {
        "id": "FcmP-pc-4U9W"
      }
    },
    {
      "cell_type": "code",
      "source": [
        "#importing Required Libraries\n",
        "import numpy as np\n",
        "import pandas as pd\n",
        "import matplotlib.pyplot as plt\n",
        "%matplotlib inline\n",
        "import seaborn as sns\n",
        "\n",
        "from sklearn import preprocessing"
      ],
      "metadata": {
        "id": "pYxEVcY0qwE5"
      },
      "execution_count": 230,
      "outputs": []
    },
    {
      "cell_type": "code",
      "source": [
        "#mounting drive\n",
        "from google.colab import drive\n",
        "drive.mount('/content/drive')"
      ],
      "metadata": {
        "colab": {
          "base_uri": "https://localhost:8080/"
        },
        "id": "inZT_lR4276r",
        "outputId": "ad1eb87e-bcf7-4588-b0b6-cecac04eb537"
      },
      "execution_count": 231,
      "outputs": [
        {
          "output_type": "stream",
          "name": "stdout",
          "text": [
            "Drive already mounted at /content/drive; to attempt to forcibly remount, call drive.mount(\"/content/drive\", force_remount=True).\n"
          ]
        }
      ]
    },
    {
      "cell_type": "markdown",
      "source": [
        "# **Loading Dataset**"
      ],
      "metadata": {
        "id": "jiZMmANq4sqN"
      }
    },
    {
      "cell_type": "code",
      "source": [
        "#loading dataset\n",
        "df1=pd.read_excel('/content/drive/My Drive/ Teknobuilt Assignment/safety_ sheet.xlsx')"
      ],
      "metadata": {
        "id": "quh9t5AlrO8y"
      },
      "execution_count": 232,
      "outputs": []
    },
    {
      "cell_type": "code",
      "source": [
        "# creating copy of dataset\n",
        "df=df1.copy()"
      ],
      "metadata": {
        "id": "hL3Qd_Sh5BtO"
      },
      "execution_count": 233,
      "outputs": []
    },
    {
      "cell_type": "markdown",
      "source": [
        "# **File Structure and content**"
      ],
      "metadata": {
        "id": "uXtNFaxK5QPG"
      }
    },
    {
      "cell_type": "code",
      "source": [
        "#no. of row and column\n",
        "print(\"We have {} rows.\".format(df.shape[0]))\n",
        "print(\"We have {} columns.\".format(df.shape[1]))"
      ],
      "metadata": {
        "colab": {
          "base_uri": "https://localhost:8080/"
        },
        "id": "t7cpjnp2fdcH",
        "outputId": "e1f83bfd-19c4-4668-ef08-c38c601f2534"
      },
      "execution_count": 234,
      "outputs": [
        {
          "output_type": "stream",
          "name": "stdout",
          "text": [
            "We have 4572 rows.\n",
            "We have 13 columns.\n"
          ]
        }
      ]
    },
    {
      "cell_type": "code",
      "source": [
        "#accessing a rows\n",
        "df.iloc[1,:]"
      ],
      "metadata": {
        "id": "o9I79jMofqM0",
        "colab": {
          "base_uri": "https://localhost:8080/"
        },
        "outputId": "a0e2a697-9d5e-41f6-c0d3-23671a59beca"
      },
      "execution_count": 235,
      "outputs": [
        {
          "output_type": "execute_result",
          "data": {
            "text/plain": [
              "Area Id                                                           572\n",
              "Area                                          1000 - Process Train #1\n",
              "Column1                                                           NaN\n",
              "Assessment Week                                   2021-01-03 00:00:00\n",
              "Assessment Id                                                     408\n",
              "Assessment                                         Work Authorization\n",
              "Asset Id                                                           37\n",
              "Week Range                                      January 3 - January 9\n",
              "Questions           Are all permit or work authorization documents...\n",
              "Risk or Positive                                             Positive\n",
              "Risk Rating                                                    Medium\n",
              "Assessment Date                                   2021-01-05 00:00:00\n",
              "Work Group Id                                                    1034\n",
              "Name: 1, dtype: object"
            ]
          },
          "metadata": {},
          "execution_count": 235
        }
      ]
    },
    {
      "cell_type": "markdown",
      "source": [
        "**At first galance, We have seen that the type of each variable and how they look like.**"
      ],
      "metadata": {
        "id": "S3cQIY4W5yMw"
      }
    },
    {
      "cell_type": "markdown",
      "source": [
        "# **MISSING VALUES**\n",
        "Knowing about missing values is important because they indicate how much we dont's know about our data. Making inferences based on just a few cases is often unwise. In addition, many modelling procedures break down when missing values are involved and the corresponding rows will either have to be removed completely or the values need to be estimated somehow."
      ],
      "metadata": {
        "id": "sw30JlE855Tj"
      }
    },
    {
      "cell_type": "code",
      "source": [
        "#check null values in Data frame\n",
        "df.isnull().sum()"
      ],
      "metadata": {
        "colab": {
          "base_uri": "https://localhost:8080/"
        },
        "id": "77bdxzh75ik7",
        "outputId": "dc7cc540-16b3-4358-8c04-e068dd1bb90b"
      },
      "execution_count": 236,
      "outputs": [
        {
          "output_type": "execute_result",
          "data": {
            "text/plain": [
              "Area Id                0\n",
              "Area                   0\n",
              "Column1             4572\n",
              "Assessment Week        0\n",
              "Assessment Id          0\n",
              "Assessment             0\n",
              "Asset Id               0\n",
              "Week Range             0\n",
              "Questions              0\n",
              "Risk or Positive       0\n",
              "Risk Rating            0\n",
              "Assessment Date        0\n",
              "Work Group Id          0\n",
              "dtype: int64"
            ]
          },
          "metadata": {},
          "execution_count": 236
        }
      ]
    },
    {
      "cell_type": "markdown",
      "source": [
        "There is a column1 have missing value in each row so we have to drop this column"
      ],
      "metadata": {
        "id": "tvLnJI1q6OpN"
      }
    },
    {
      "cell_type": "code",
      "source": [
        "df.drop(df.columns[2], axis = 1, inplace = True)"
      ],
      "metadata": {
        "id": "7fEqZGaN6FIk"
      },
      "execution_count": 237,
      "outputs": []
    },
    {
      "cell_type": "code",
      "source": [
        "#check null values in Data frame\n",
        "df.isnull().sum()"
      ],
      "metadata": {
        "colab": {
          "base_uri": "https://localhost:8080/"
        },
        "id": "JbzaDAVn6iGL",
        "outputId": "b12c0b01-b440-4a17-8bb8-19120a96a412"
      },
      "execution_count": 238,
      "outputs": [
        {
          "output_type": "execute_result",
          "data": {
            "text/plain": [
              "Area Id             0\n",
              "Area                0\n",
              "Assessment Week     0\n",
              "Assessment Id       0\n",
              "Assessment          0\n",
              "Asset Id            0\n",
              "Week Range          0\n",
              "Questions           0\n",
              "Risk or Positive    0\n",
              "Risk Rating         0\n",
              "Assessment Date     0\n",
              "Work Group Id       0\n",
              "dtype: int64"
            ]
          },
          "metadata": {},
          "execution_count": 238
        }
      ]
    },
    {
      "cell_type": "markdown",
      "source": [
        "# **Describing Dataset**"
      ],
      "metadata": {
        "id": "AR2Mbx3T7sJ5"
      }
    },
    {
      "cell_type": "code",
      "source": [
        "# cheking for first five rows\n",
        "df.head()"
      ],
      "metadata": {
        "colab": {
          "base_uri": "https://localhost:8080/",
          "height": 354
        },
        "id": "bDkbaKxk7aJL",
        "outputId": "9f2826bc-6ab4-4014-a999-71e6915ef043"
      },
      "execution_count": 239,
      "outputs": [
        {
          "output_type": "execute_result",
          "data": {
            "text/plain": [
              "   Area Id                     Area Assessment Week  Assessment Id  \\\n",
              "0      572  1000 - Process Train #1      2021-01-03            404   \n",
              "1      572  1000 - Process Train #1      2021-01-03            408   \n",
              "2      572  1000 - Process Train #1      2021-01-03            408   \n",
              "3      572  1000 - Process Train #1      2021-01-03            408   \n",
              "4      572  1000 - Process Train #1      2021-01-03            408   \n",
              "\n",
              "           Assessment  Asset Id             Week Range  \\\n",
              "0      General Safety        37  January 3 - January 9   \n",
              "1  Work Authorization        37  January 3 - January 9   \n",
              "2  Work Authorization        37  January 3 - January 9   \n",
              "3  Work Authorization        37  January 3 - January 9   \n",
              "4  Work Authorization        37  January 3 - January 9   \n",
              "\n",
              "                                           Questions Risk or Positive  \\\n",
              "0                Is barrier tape or rope being used?          At Risk   \n",
              "1  Are all permit or work authorization documents...         Positive   \n",
              "2  Are worker's qualified for job they are author...         Positive   \n",
              "3           Is the permit available at the worksite?         Positive   \n",
              "4  Is the work authorization documentation / perm...         Positive   \n",
              "\n",
              "  Risk Rating Assessment Date  Work Group Id  \n",
              "0      Medium      2021-01-07           1035  \n",
              "1      Medium      2021-01-05           1034  \n",
              "2      Medium      2021-01-05           1034  \n",
              "3      Medium      2021-01-05           1034  \n",
              "4      Medium      2021-01-05           1034  "
            ],
            "text/html": [
              "\n",
              "  <div id=\"df-568224a5-8423-41fb-941b-ba1fd2867e4e\">\n",
              "    <div class=\"colab-df-container\">\n",
              "      <div>\n",
              "<style scoped>\n",
              "    .dataframe tbody tr th:only-of-type {\n",
              "        vertical-align: middle;\n",
              "    }\n",
              "\n",
              "    .dataframe tbody tr th {\n",
              "        vertical-align: top;\n",
              "    }\n",
              "\n",
              "    .dataframe thead th {\n",
              "        text-align: right;\n",
              "    }\n",
              "</style>\n",
              "<table border=\"1\" class=\"dataframe\">\n",
              "  <thead>\n",
              "    <tr style=\"text-align: right;\">\n",
              "      <th></th>\n",
              "      <th>Area Id</th>\n",
              "      <th>Area</th>\n",
              "      <th>Assessment Week</th>\n",
              "      <th>Assessment Id</th>\n",
              "      <th>Assessment</th>\n",
              "      <th>Asset Id</th>\n",
              "      <th>Week Range</th>\n",
              "      <th>Questions</th>\n",
              "      <th>Risk or Positive</th>\n",
              "      <th>Risk Rating</th>\n",
              "      <th>Assessment Date</th>\n",
              "      <th>Work Group Id</th>\n",
              "    </tr>\n",
              "  </thead>\n",
              "  <tbody>\n",
              "    <tr>\n",
              "      <th>0</th>\n",
              "      <td>572</td>\n",
              "      <td>1000 - Process Train #1</td>\n",
              "      <td>2021-01-03</td>\n",
              "      <td>404</td>\n",
              "      <td>General Safety</td>\n",
              "      <td>37</td>\n",
              "      <td>January 3 - January 9</td>\n",
              "      <td>Is barrier tape or rope being used?</td>\n",
              "      <td>At Risk</td>\n",
              "      <td>Medium</td>\n",
              "      <td>2021-01-07</td>\n",
              "      <td>1035</td>\n",
              "    </tr>\n",
              "    <tr>\n",
              "      <th>1</th>\n",
              "      <td>572</td>\n",
              "      <td>1000 - Process Train #1</td>\n",
              "      <td>2021-01-03</td>\n",
              "      <td>408</td>\n",
              "      <td>Work Authorization</td>\n",
              "      <td>37</td>\n",
              "      <td>January 3 - January 9</td>\n",
              "      <td>Are all permit or work authorization documents...</td>\n",
              "      <td>Positive</td>\n",
              "      <td>Medium</td>\n",
              "      <td>2021-01-05</td>\n",
              "      <td>1034</td>\n",
              "    </tr>\n",
              "    <tr>\n",
              "      <th>2</th>\n",
              "      <td>572</td>\n",
              "      <td>1000 - Process Train #1</td>\n",
              "      <td>2021-01-03</td>\n",
              "      <td>408</td>\n",
              "      <td>Work Authorization</td>\n",
              "      <td>37</td>\n",
              "      <td>January 3 - January 9</td>\n",
              "      <td>Are worker's qualified for job they are author...</td>\n",
              "      <td>Positive</td>\n",
              "      <td>Medium</td>\n",
              "      <td>2021-01-05</td>\n",
              "      <td>1034</td>\n",
              "    </tr>\n",
              "    <tr>\n",
              "      <th>3</th>\n",
              "      <td>572</td>\n",
              "      <td>1000 - Process Train #1</td>\n",
              "      <td>2021-01-03</td>\n",
              "      <td>408</td>\n",
              "      <td>Work Authorization</td>\n",
              "      <td>37</td>\n",
              "      <td>January 3 - January 9</td>\n",
              "      <td>Is the permit available at the worksite?</td>\n",
              "      <td>Positive</td>\n",
              "      <td>Medium</td>\n",
              "      <td>2021-01-05</td>\n",
              "      <td>1034</td>\n",
              "    </tr>\n",
              "    <tr>\n",
              "      <th>4</th>\n",
              "      <td>572</td>\n",
              "      <td>1000 - Process Train #1</td>\n",
              "      <td>2021-01-03</td>\n",
              "      <td>408</td>\n",
              "      <td>Work Authorization</td>\n",
              "      <td>37</td>\n",
              "      <td>January 3 - January 9</td>\n",
              "      <td>Is the work authorization documentation / perm...</td>\n",
              "      <td>Positive</td>\n",
              "      <td>Medium</td>\n",
              "      <td>2021-01-05</td>\n",
              "      <td>1034</td>\n",
              "    </tr>\n",
              "  </tbody>\n",
              "</table>\n",
              "</div>\n",
              "      <button class=\"colab-df-convert\" onclick=\"convertToInteractive('df-568224a5-8423-41fb-941b-ba1fd2867e4e')\"\n",
              "              title=\"Convert this dataframe to an interactive table.\"\n",
              "              style=\"display:none;\">\n",
              "        \n",
              "  <svg xmlns=\"http://www.w3.org/2000/svg\" height=\"24px\"viewBox=\"0 0 24 24\"\n",
              "       width=\"24px\">\n",
              "    <path d=\"M0 0h24v24H0V0z\" fill=\"none\"/>\n",
              "    <path d=\"M18.56 5.44l.94 2.06.94-2.06 2.06-.94-2.06-.94-.94-2.06-.94 2.06-2.06.94zm-11 1L8.5 8.5l.94-2.06 2.06-.94-2.06-.94L8.5 2.5l-.94 2.06-2.06.94zm10 10l.94 2.06.94-2.06 2.06-.94-2.06-.94-.94-2.06-.94 2.06-2.06.94z\"/><path d=\"M17.41 7.96l-1.37-1.37c-.4-.4-.92-.59-1.43-.59-.52 0-1.04.2-1.43.59L10.3 9.45l-7.72 7.72c-.78.78-.78 2.05 0 2.83L4 21.41c.39.39.9.59 1.41.59.51 0 1.02-.2 1.41-.59l7.78-7.78 2.81-2.81c.8-.78.8-2.07 0-2.86zM5.41 20L4 18.59l7.72-7.72 1.47 1.35L5.41 20z\"/>\n",
              "  </svg>\n",
              "      </button>\n",
              "      \n",
              "  <style>\n",
              "    .colab-df-container {\n",
              "      display:flex;\n",
              "      flex-wrap:wrap;\n",
              "      gap: 12px;\n",
              "    }\n",
              "\n",
              "    .colab-df-convert {\n",
              "      background-color: #E8F0FE;\n",
              "      border: none;\n",
              "      border-radius: 50%;\n",
              "      cursor: pointer;\n",
              "      display: none;\n",
              "      fill: #1967D2;\n",
              "      height: 32px;\n",
              "      padding: 0 0 0 0;\n",
              "      width: 32px;\n",
              "    }\n",
              "\n",
              "    .colab-df-convert:hover {\n",
              "      background-color: #E2EBFA;\n",
              "      box-shadow: 0px 1px 2px rgba(60, 64, 67, 0.3), 0px 1px 3px 1px rgba(60, 64, 67, 0.15);\n",
              "      fill: #174EA6;\n",
              "    }\n",
              "\n",
              "    [theme=dark] .colab-df-convert {\n",
              "      background-color: #3B4455;\n",
              "      fill: #D2E3FC;\n",
              "    }\n",
              "\n",
              "    [theme=dark] .colab-df-convert:hover {\n",
              "      background-color: #434B5C;\n",
              "      box-shadow: 0px 1px 3px 1px rgba(0, 0, 0, 0.15);\n",
              "      filter: drop-shadow(0px 1px 2px rgba(0, 0, 0, 0.3));\n",
              "      fill: #FFFFFF;\n",
              "    }\n",
              "  </style>\n",
              "\n",
              "      <script>\n",
              "        const buttonEl =\n",
              "          document.querySelector('#df-568224a5-8423-41fb-941b-ba1fd2867e4e button.colab-df-convert');\n",
              "        buttonEl.style.display =\n",
              "          google.colab.kernel.accessAllowed ? 'block' : 'none';\n",
              "\n",
              "        async function convertToInteractive(key) {\n",
              "          const element = document.querySelector('#df-568224a5-8423-41fb-941b-ba1fd2867e4e');\n",
              "          const dataTable =\n",
              "            await google.colab.kernel.invokeFunction('convertToInteractive',\n",
              "                                                     [key], {});\n",
              "          if (!dataTable) return;\n",
              "\n",
              "          const docLinkHtml = 'Like what you see? Visit the ' +\n",
              "            '<a target=\"_blank\" href=https://colab.research.google.com/notebooks/data_table.ipynb>data table notebook</a>'\n",
              "            + ' to learn more about interactive tables.';\n",
              "          element.innerHTML = '';\n",
              "          dataTable['output_type'] = 'display_data';\n",
              "          await google.colab.output.renderOutput(dataTable, element);\n",
              "          const docLink = document.createElement('div');\n",
              "          docLink.innerHTML = docLinkHtml;\n",
              "          element.appendChild(docLink);\n",
              "        }\n",
              "      </script>\n",
              "    </div>\n",
              "  </div>\n",
              "  "
            ]
          },
          "metadata": {},
          "execution_count": 239
        }
      ]
    },
    {
      "cell_type": "code",
      "source": [
        "# summery of dataframe\n",
        "df.describe()"
      ],
      "metadata": {
        "colab": {
          "base_uri": "https://localhost:8080/",
          "height": 300
        },
        "id": "oQHYNAU-7yd5",
        "outputId": "eba122e4-7702-42c1-a3af-65ab5315fbf1"
      },
      "execution_count": 240,
      "outputs": [
        {
          "output_type": "execute_result",
          "data": {
            "text/plain": [
              "           Area Id  Assessment Id  Asset Id  Work Group Id\n",
              "count  4572.000000    4572.000000    4572.0    4572.000000\n",
              "mean    575.455599     403.274278      37.0    1034.539151\n",
              "std       3.772808       4.109155       0.0       1.507075\n",
              "min     572.000000     399.000000      37.0    1034.000000\n",
              "25%     572.000000     399.000000      37.0    1034.000000\n",
              "50%     576.000000     404.000000      37.0    1034.000000\n",
              "75%     577.000000     406.000000      37.0    1035.000000\n",
              "max     588.000000     415.000000      37.0    1061.000000"
            ],
            "text/html": [
              "\n",
              "  <div id=\"df-352938a5-05fa-4e38-87e0-3cfb941943fc\">\n",
              "    <div class=\"colab-df-container\">\n",
              "      <div>\n",
              "<style scoped>\n",
              "    .dataframe tbody tr th:only-of-type {\n",
              "        vertical-align: middle;\n",
              "    }\n",
              "\n",
              "    .dataframe tbody tr th {\n",
              "        vertical-align: top;\n",
              "    }\n",
              "\n",
              "    .dataframe thead th {\n",
              "        text-align: right;\n",
              "    }\n",
              "</style>\n",
              "<table border=\"1\" class=\"dataframe\">\n",
              "  <thead>\n",
              "    <tr style=\"text-align: right;\">\n",
              "      <th></th>\n",
              "      <th>Area Id</th>\n",
              "      <th>Assessment Id</th>\n",
              "      <th>Asset Id</th>\n",
              "      <th>Work Group Id</th>\n",
              "    </tr>\n",
              "  </thead>\n",
              "  <tbody>\n",
              "    <tr>\n",
              "      <th>count</th>\n",
              "      <td>4572.000000</td>\n",
              "      <td>4572.000000</td>\n",
              "      <td>4572.0</td>\n",
              "      <td>4572.000000</td>\n",
              "    </tr>\n",
              "    <tr>\n",
              "      <th>mean</th>\n",
              "      <td>575.455599</td>\n",
              "      <td>403.274278</td>\n",
              "      <td>37.0</td>\n",
              "      <td>1034.539151</td>\n",
              "    </tr>\n",
              "    <tr>\n",
              "      <th>std</th>\n",
              "      <td>3.772808</td>\n",
              "      <td>4.109155</td>\n",
              "      <td>0.0</td>\n",
              "      <td>1.507075</td>\n",
              "    </tr>\n",
              "    <tr>\n",
              "      <th>min</th>\n",
              "      <td>572.000000</td>\n",
              "      <td>399.000000</td>\n",
              "      <td>37.0</td>\n",
              "      <td>1034.000000</td>\n",
              "    </tr>\n",
              "    <tr>\n",
              "      <th>25%</th>\n",
              "      <td>572.000000</td>\n",
              "      <td>399.000000</td>\n",
              "      <td>37.0</td>\n",
              "      <td>1034.000000</td>\n",
              "    </tr>\n",
              "    <tr>\n",
              "      <th>50%</th>\n",
              "      <td>576.000000</td>\n",
              "      <td>404.000000</td>\n",
              "      <td>37.0</td>\n",
              "      <td>1034.000000</td>\n",
              "    </tr>\n",
              "    <tr>\n",
              "      <th>75%</th>\n",
              "      <td>577.000000</td>\n",
              "      <td>406.000000</td>\n",
              "      <td>37.0</td>\n",
              "      <td>1035.000000</td>\n",
              "    </tr>\n",
              "    <tr>\n",
              "      <th>max</th>\n",
              "      <td>588.000000</td>\n",
              "      <td>415.000000</td>\n",
              "      <td>37.0</td>\n",
              "      <td>1061.000000</td>\n",
              "    </tr>\n",
              "  </tbody>\n",
              "</table>\n",
              "</div>\n",
              "      <button class=\"colab-df-convert\" onclick=\"convertToInteractive('df-352938a5-05fa-4e38-87e0-3cfb941943fc')\"\n",
              "              title=\"Convert this dataframe to an interactive table.\"\n",
              "              style=\"display:none;\">\n",
              "        \n",
              "  <svg xmlns=\"http://www.w3.org/2000/svg\" height=\"24px\"viewBox=\"0 0 24 24\"\n",
              "       width=\"24px\">\n",
              "    <path d=\"M0 0h24v24H0V0z\" fill=\"none\"/>\n",
              "    <path d=\"M18.56 5.44l.94 2.06.94-2.06 2.06-.94-2.06-.94-.94-2.06-.94 2.06-2.06.94zm-11 1L8.5 8.5l.94-2.06 2.06-.94-2.06-.94L8.5 2.5l-.94 2.06-2.06.94zm10 10l.94 2.06.94-2.06 2.06-.94-2.06-.94-.94-2.06-.94 2.06-2.06.94z\"/><path d=\"M17.41 7.96l-1.37-1.37c-.4-.4-.92-.59-1.43-.59-.52 0-1.04.2-1.43.59L10.3 9.45l-7.72 7.72c-.78.78-.78 2.05 0 2.83L4 21.41c.39.39.9.59 1.41.59.51 0 1.02-.2 1.41-.59l7.78-7.78 2.81-2.81c.8-.78.8-2.07 0-2.86zM5.41 20L4 18.59l7.72-7.72 1.47 1.35L5.41 20z\"/>\n",
              "  </svg>\n",
              "      </button>\n",
              "      \n",
              "  <style>\n",
              "    .colab-df-container {\n",
              "      display:flex;\n",
              "      flex-wrap:wrap;\n",
              "      gap: 12px;\n",
              "    }\n",
              "\n",
              "    .colab-df-convert {\n",
              "      background-color: #E8F0FE;\n",
              "      border: none;\n",
              "      border-radius: 50%;\n",
              "      cursor: pointer;\n",
              "      display: none;\n",
              "      fill: #1967D2;\n",
              "      height: 32px;\n",
              "      padding: 0 0 0 0;\n",
              "      width: 32px;\n",
              "    }\n",
              "\n",
              "    .colab-df-convert:hover {\n",
              "      background-color: #E2EBFA;\n",
              "      box-shadow: 0px 1px 2px rgba(60, 64, 67, 0.3), 0px 1px 3px 1px rgba(60, 64, 67, 0.15);\n",
              "      fill: #174EA6;\n",
              "    }\n",
              "\n",
              "    [theme=dark] .colab-df-convert {\n",
              "      background-color: #3B4455;\n",
              "      fill: #D2E3FC;\n",
              "    }\n",
              "\n",
              "    [theme=dark] .colab-df-convert:hover {\n",
              "      background-color: #434B5C;\n",
              "      box-shadow: 0px 1px 3px 1px rgba(0, 0, 0, 0.15);\n",
              "      filter: drop-shadow(0px 1px 2px rgba(0, 0, 0, 0.3));\n",
              "      fill: #FFFFFF;\n",
              "    }\n",
              "  </style>\n",
              "\n",
              "      <script>\n",
              "        const buttonEl =\n",
              "          document.querySelector('#df-352938a5-05fa-4e38-87e0-3cfb941943fc button.colab-df-convert');\n",
              "        buttonEl.style.display =\n",
              "          google.colab.kernel.accessAllowed ? 'block' : 'none';\n",
              "\n",
              "        async function convertToInteractive(key) {\n",
              "          const element = document.querySelector('#df-352938a5-05fa-4e38-87e0-3cfb941943fc');\n",
              "          const dataTable =\n",
              "            await google.colab.kernel.invokeFunction('convertToInteractive',\n",
              "                                                     [key], {});\n",
              "          if (!dataTable) return;\n",
              "\n",
              "          const docLinkHtml = 'Like what you see? Visit the ' +\n",
              "            '<a target=\"_blank\" href=https://colab.research.google.com/notebooks/data_table.ipynb>data table notebook</a>'\n",
              "            + ' to learn more about interactive tables.';\n",
              "          element.innerHTML = '';\n",
              "          dataTable['output_type'] = 'display_data';\n",
              "          await google.colab.output.renderOutput(dataTable, element);\n",
              "          const docLink = document.createElement('div');\n",
              "          docLink.innerHTML = docLinkHtml;\n",
              "          element.appendChild(docLink);\n",
              "        }\n",
              "      </script>\n",
              "    </div>\n",
              "  </div>\n",
              "  "
            ]
          },
          "metadata": {},
          "execution_count": 240
        }
      ]
    },
    {
      "cell_type": "code",
      "source": [
        "#information about dataset\n",
        "df.info()"
      ],
      "metadata": {
        "colab": {
          "base_uri": "https://localhost:8080/"
        },
        "id": "CoMQyv9c7-_h",
        "outputId": "61fab251-b78f-4034-c64f-9f258f88ab56"
      },
      "execution_count": 241,
      "outputs": [
        {
          "output_type": "stream",
          "name": "stdout",
          "text": [
            "<class 'pandas.core.frame.DataFrame'>\n",
            "RangeIndex: 4572 entries, 0 to 4571\n",
            "Data columns (total 12 columns):\n",
            " #   Column            Non-Null Count  Dtype         \n",
            "---  ------            --------------  -----         \n",
            " 0   Area Id           4572 non-null   int64         \n",
            " 1   Area              4572 non-null   object        \n",
            " 2   Assessment Week   4572 non-null   datetime64[ns]\n",
            " 3   Assessment Id     4572 non-null   int64         \n",
            " 4   Assessment        4572 non-null   object        \n",
            " 5   Asset Id          4572 non-null   int64         \n",
            " 6   Week Range        4572 non-null   object        \n",
            " 7   Questions         4572 non-null   object        \n",
            " 8   Risk or Positive  4572 non-null   object        \n",
            " 9   Risk Rating       4572 non-null   object        \n",
            " 10  Assessment Date   4572 non-null   datetime64[ns]\n",
            " 11  Work Group Id     4572 non-null   int64         \n",
            "dtypes: datetime64[ns](2), int64(4), object(6)\n",
            "memory usage: 428.8+ KB\n"
          ]
        }
      ]
    },
    {
      "cell_type": "markdown",
      "source": [
        "# **Reformating Feature**\n",
        " Label Encoding on \"Risk or Positive\" and \"Risk Rating\" column"
      ],
      "metadata": {
        "id": "0ZYiCQFp-i71"
      }
    },
    {
      "cell_type": "code",
      "source": [
        "df['Risk or Positive'].value_counts()"
      ],
      "metadata": {
        "colab": {
          "base_uri": "https://localhost:8080/"
        },
        "id": "RtCaYg8w-q8e",
        "outputId": "4aa5746e-d154-482d-ce2f-630bf31b5ed5"
      },
      "execution_count": 242,
      "outputs": [
        {
          "output_type": "execute_result",
          "data": {
            "text/plain": [
              "Positive    4436\n",
              "At Risk      136\n",
              "Name: Risk or Positive, dtype: int64"
            ]
          },
          "metadata": {},
          "execution_count": 242
        }
      ]
    },
    {
      "cell_type": "code",
      "source": [
        "df['Risk Rating'].value_counts()"
      ],
      "metadata": {
        "colab": {
          "base_uri": "https://localhost:8080/"
        },
        "id": "tiee3Ddn-KSq",
        "outputId": "a86d5013-2bda-4d17-b264-696990739e6b"
      },
      "execution_count": 243,
      "outputs": [
        {
          "output_type": "execute_result",
          "data": {
            "text/plain": [
              "Low       2231\n",
              "Medium    2124\n",
              "High       217\n",
              "Name: Risk Rating, dtype: int64"
            ]
          },
          "metadata": {},
          "execution_count": 243
        }
      ]
    },
    {
      "cell_type": "code",
      "source": [
        " # label_encoder object knows how to understand word labels.\n",
        "label_encoder = preprocessing.LabelEncoder()\n",
        " \n",
        "# Encode labels in column 'Risk or Positive'.\n",
        "df['Risk or Positive']= label_encoder.fit_transform(df['Risk or Positive'])\n",
        "# Encode labels in column 'Area'.\n",
        "df['Area']= label_encoder.fit_transform(df['Area'])\n",
        "# Encode labels in column 'Assessment Week'.\n",
        "df['Assessment Week']= label_encoder.fit_transform(df['Assessment Week'])\n",
        "\n",
        "\n",
        "\n",
        "# Encode labels in column 'Risk Rating'.\n",
        "df.loc[df[\"Risk Rating\"] == \"Low\", \"Risk Rating\"] = 1\n",
        "df.loc[df[\"Risk Rating\"] == \"Medium\", \"Risk Rating\"] = 2\n",
        "df.loc[df[\"Risk Rating\"] == \"High\", \"Risk Rating\"] = 3\n"
      ],
      "metadata": {
        "id": "-E5w68_K_Utp"
      },
      "execution_count": 244,
      "outputs": []
    },
    {
      "cell_type": "markdown",
      "source": [
        "We encoded Risk = 0 and Positive = 1 in 'Risk or Positive' column.\n",
        "\n",
        "We encoded Low = 1, Medium=2 and High = 3 in 'Risk Rating' column."
      ],
      "metadata": {
        "id": "DW44z8HtEMCe"
      }
    },
    {
      "cell_type": "code",
      "source": [
        "df['Risk Rating'].value_counts()"
      ],
      "metadata": {
        "colab": {
          "base_uri": "https://localhost:8080/"
        },
        "id": "7boFu1L9AEA0",
        "outputId": "1e499d90-36cb-4f19-d869-d94315df6850"
      },
      "execution_count": 246,
      "outputs": [
        {
          "output_type": "execute_result",
          "data": {
            "text/plain": [
              "1    2231\n",
              "2    2124\n",
              "3     217\n",
              "Name: Risk Rating, dtype: int64"
            ]
          },
          "metadata": {},
          "execution_count": 246
        }
      ]
    },
    {
      "cell_type": "code",
      "source": [
        "df['Week Range'].value_counts()"
      ],
      "metadata": {
        "colab": {
          "base_uri": "https://localhost:8080/"
        },
        "id": "mIum3MZVAY9p",
        "outputId": "cc84fb8b-304a-4b0f-eb54-4a0bf12ca5c5"
      },
      "execution_count": 247,
      "outputs": [
        {
          "output_type": "execute_result",
          "data": {
            "text/plain": [
              "February 28 - March 6        1334\n",
              "January 10 - January 16       699\n",
              "February 21 - February 27     696\n",
              "February 7 - February 13      613\n",
              "January 31 - February 6       433\n",
              "January 24 - January 30       377\n",
              "January 17 - January 23       365\n",
              "February 14 - February 20      40\n",
              "January 3 - January 9          15\n",
              "Name: Week Range, dtype: int64"
            ]
          },
          "metadata": {},
          "execution_count": 247
        }
      ]
    },
    {
      "cell_type": "code",
      "source": [
        "df['Work Group Id'].value_counts()"
      ],
      "metadata": {
        "colab": {
          "base_uri": "https://localhost:8080/"
        },
        "id": "f0cuYQatEEAJ",
        "outputId": "3df64336-5119-4efc-a093-3ff35001a196"
      },
      "execution_count": 248,
      "outputs": [
        {
          "output_type": "execute_result",
          "data": {
            "text/plain": [
              "1034    3318\n",
              "1035     779\n",
              "1038     258\n",
              "1036     198\n",
              "1037       8\n",
              "1061       8\n",
              "1040       3\n",
              "Name: Work Group Id, dtype: int64"
            ]
          },
          "metadata": {},
          "execution_count": 248
        }
      ]
    },
    {
      "cell_type": "code",
      "source": [
        "df.nunique()"
      ],
      "metadata": {
        "colab": {
          "base_uri": "https://localhost:8080/"
        },
        "id": "9Z0zLFx2IYob",
        "outputId": "d8b07acd-9887-4955-8f2b-9956ab0a5475"
      },
      "execution_count": 249,
      "outputs": [
        {
          "output_type": "execute_result",
          "data": {
            "text/plain": [
              "Area Id              11\n",
              "Area                 11\n",
              "Assessment Week       9\n",
              "Assessment Id        12\n",
              "Assessment           12\n",
              "Asset Id              1\n",
              "Week Range            9\n",
              "Questions           192\n",
              "Risk or Positive      2\n",
              "Risk Rating           3\n",
              "Assessment Date      46\n",
              "Work Group Id         7\n",
              "dtype: int64"
            ]
          },
          "metadata": {},
          "execution_count": 249
        }
      ]
    },
    {
      "cell_type": "code",
      "source": [
        ""
      ],
      "metadata": {
        "id": "jtqump45I_mA"
      },
      "execution_count": 249,
      "outputs": []
    },
    {
      "cell_type": "markdown",
      "source": [
        "# **Exploratory Data Analysis**\n",
        "**Area Id**"
      ],
      "metadata": {
        "id": "DY2IVznvJmE5"
      }
    },
    {
      "cell_type": "code",
      "source": [
        "# Area Id\n",
        "plt.figure(figsize=(10,5))\n",
        "sns.countplot(df['Area Id'])\n",
        "plt.xlabel('Area Id')\n",
        "plt.ylabel('Frequency')"
      ],
      "metadata": {
        "colab": {
          "base_uri": "https://localhost:8080/",
          "height": 411
        },
        "id": "07BD-BYwLFJ8",
        "outputId": "5116edcc-a0aa-4960-9a2b-d9595dc25d90"
      },
      "execution_count": 250,
      "outputs": [
        {
          "output_type": "stream",
          "name": "stderr",
          "text": [
            "/usr/local/lib/python3.7/dist-packages/seaborn/_decorators.py:43: FutureWarning: Pass the following variable as a keyword arg: x. From version 0.12, the only valid positional argument will be `data`, and passing other arguments without an explicit keyword will result in an error or misinterpretation.\n",
            "  FutureWarning\n"
          ]
        },
        {
          "output_type": "execute_result",
          "data": {
            "text/plain": [
              "Text(0, 0.5, 'Frequency')"
            ]
          },
          "metadata": {},
          "execution_count": 250
        },
        {
          "output_type": "display_data",
          "data": {
            "text/plain": [
              "<Figure size 720x360 with 1 Axes>"
            ],
            "image/png": "[encoded data removed]"
          },
          "metadata": {
            "needs_background": "light"
          }
        }
      ]
    },
    {
      "cell_type": "code",
      "source": [
        "# Assessment Id\n",
        "plt.figure(figsize=(10,5))\n",
        "sns.countplot(df['Assessment Id'])\n",
        "plt.xlabel('Assessment Id')\n",
        "plt.ylabel('Frequency')"
      ],
      "metadata": {
        "colab": {
          "base_uri": "https://localhost:8080/",
          "height": 411
        },
        "id": "DRxUQXYYL7jp",
        "outputId": "e1a4bad8-9bf4-4735-a023-3efa86d8347e"
      },
      "execution_count": 251,
      "outputs": [
        {
          "output_type": "stream",
          "name": "stderr",
          "text": [
            "/usr/local/lib/python3.7/dist-packages/seaborn/_decorators.py:43: FutureWarning: Pass the following variable as a keyword arg: x. From version 0.12, the only valid positional argument will be `data`, and passing other arguments without an explicit keyword will result in an error or misinterpretation.\n",
            "  FutureWarning\n"
          ]
        },
        {
          "output_type": "execute_result",
          "data": {
            "text/plain": [
              "Text(0, 0.5, 'Frequency')"
            ]
          },
          "metadata": {},
          "execution_count": 251
        },
        {
          "output_type": "display_data",
          "data": {
            "text/plain": [
              "<Figure size 720x360 with 1 Axes>"
            ],
            "image/png": "[encoded data removed]"
          },
          "metadata": {
            "needs_background": "light"
          }
        }
      ]
    },
    {
      "cell_type": "code",
      "source": [
        "#Risk or Positive\n",
        "a=df['Risk or Positive'].value_counts()\n",
        "d=a.plot(kind='pie', figsize = (8,10), title='Risk=0 and Positive=1')"
      ],
      "metadata": {
        "colab": {
          "base_uri": "https://localhost:8080/",
          "height": 493
        },
        "id": "GZpj7A1IMjDT",
        "outputId": "53c90714-ac60-4688-9e1c-be9105ceb73d"
      },
      "execution_count": 252,
      "outputs": [
        {
          "output_type": "display_data",
          "data": {
            "text/plain": [
              "<Figure size 576x720 with 1 Axes>"
            ],
            "image/png": "[encoded data removed]"
          },
          "metadata": {}
        }
      ]
    },
    {
      "cell_type": "code",
      "source": [
        "#Risk Rating\n",
        "a=df['Risk Rating'].value_counts()\n",
        "d=a.plot(kind='pie', figsize = (8,10), title='Low=1, Medium=2 and High=3')"
      ],
      "metadata": {
        "colab": {
          "base_uri": "https://localhost:8080/",
          "height": 493
        },
        "id": "5K0zmvILQpUJ",
        "outputId": "20c6761f-020f-46bc-9dd5-df0a79ec8ad0"
      },
      "execution_count": 253,
      "outputs": [
        {
          "output_type": "display_data",
          "data": {
            "text/plain": [
              "<Figure size 576x720 with 1 Axes>"
            ],
            "image/png": "[encoded data removed]"
          },
          "metadata": {}
        }
      ]
    },
    {
      "cell_type": "code",
      "source": [
        "#Work Group Id\n",
        "plt.figure(figsize=(10,5))\n",
        "sns.countplot(df['Work Group Id'])\n",
        "plt.xlabel('Work Group Id')\n",
        "plt.ylabel('Count')"
      ],
      "metadata": {
        "colab": {
          "base_uri": "https://localhost:8080/",
          "height": 411
        },
        "id": "exKiGpxHRR1A",
        "outputId": "6efae984-855c-43fb-c68a-cb3821fc0574"
      },
      "execution_count": 254,
      "outputs": [
        {
          "output_type": "stream",
          "name": "stderr",
          "text": [
            "/usr/local/lib/python3.7/dist-packages/seaborn/_decorators.py:43: FutureWarning: Pass the following variable as a keyword arg: x. From version 0.12, the only valid positional argument will be `data`, and passing other arguments without an explicit keyword will result in an error or misinterpretation.\n",
            "  FutureWarning\n"
          ]
        },
        {
          "output_type": "execute_result",
          "data": {
            "text/plain": [
              "Text(0, 0.5, 'Count')"
            ]
          },
          "metadata": {},
          "execution_count": 254
        },
        {
          "output_type": "display_data",
          "data": {
            "text/plain": [
              "<Figure size 720x360 with 1 Axes>"
            ],
            "image/png": "[encoded data removed]"
          },
          "metadata": {
            "needs_background": "light"
          }
        }
      ]
    },
    {
      "cell_type": "markdown",
      "source": [
        "# **Model Building**\n",
        "\n",
        "**1. Using NLP, classify questions into 1 umbrella term to form groups of similar questions**"
      ],
      "metadata": {
        "id": "rRh1Nhm5SE9T"
      }
    },
    {
      "cell_type": "code",
      "source": [
        "#importing required libraries for NLP\n",
        "import re\n",
        "from nltk.corpus import stopwords\n",
        "from nltk.stem.porter import PorterStemmer\n",
        "from nltk.stem import WordNetLemmatizer\n",
        "import nltk\n",
        "nltk.download('punkt')\n",
        "ps = PorterStemmer()\n",
        "nltk.download('stopwords')"
      ],
      "metadata": {
        "id": "qLTjKR3GSLRt",
        "colab": {
          "base_uri": "https://localhost:8080/"
        },
        "outputId": "68c48ddd-5b45-43ed-d8eb-9f8da24474eb"
      },
      "execution_count": 255,
      "outputs": [
        {
          "output_type": "stream",
          "name": "stdout",
          "text": [
            "[nltk_data] Downloading package punkt to /root/nltk_data...\n",
            "[nltk_data]   Package punkt is already up-to-date!\n",
            "[nltk_data] Downloading package stopwords to /root/nltk_data...\n",
            "[nltk_data]   Package stopwords is already up-to-date!\n"
          ]
        },
        {
          "output_type": "execute_result",
          "data": {
            "text/plain": [
              "True"
            ]
          },
          "metadata": {},
          "execution_count": 255
        }
      ]
    },
    {
      "cell_type": "code",
      "source": [
        "# we are performing bag of words on Question column\n",
        "Ques=pd.DataFrame(df['Questions'])\n",
        "Ques.head()"
      ],
      "metadata": {
        "colab": {
          "base_uri": "https://localhost:8080/",
          "height": 206
        },
        "id": "UXOFRRdkQHcr",
        "outputId": "eb0c5936-4582-4770-c5e3-ed20724a8747"
      },
      "execution_count": 256,
      "outputs": [
        {
          "output_type": "execute_result",
          "data": {
            "text/plain": [
              "                                           Questions\n",
              "0                Is barrier tape or rope being used?\n",
              "1  Are all permit or work authorization documents...\n",
              "2  Are worker's qualified for job they are author...\n",
              "3           Is the permit available at the worksite?\n",
              "4  Is the work authorization documentation / perm..."
            ],
            "text/html": [
              "\n",
              "  <div id=\"df-697bb817-69c0-4aa6-bfef-9a8d5afc764d\">\n",
              "    <div class=\"colab-df-container\">\n",
              "      <div>\n",
              "<style scoped>\n",
              "    .dataframe tbody tr th:only-of-type {\n",
              "        vertical-align: middle;\n",
              "    }\n",
              "\n",
              "    .dataframe tbody tr th {\n",
              "        vertical-align: top;\n",
              "    }\n",
              "\n",
              "    .dataframe thead th {\n",
              "        text-align: right;\n",
              "    }\n",
              "</style>\n",
              "<table border=\"1\" class=\"dataframe\">\n",
              "  <thead>\n",
              "    <tr style=\"text-align: right;\">\n",
              "      <th></th>\n",
              "      <th>Questions</th>\n",
              "    </tr>\n",
              "  </thead>\n",
              "  <tbody>\n",
              "    <tr>\n",
              "      <th>0</th>\n",
              "      <td>Is barrier tape or rope being used?</td>\n",
              "    </tr>\n",
              "    <tr>\n",
              "      <th>1</th>\n",
              "      <td>Are all permit or work authorization documents...</td>\n",
              "    </tr>\n",
              "    <tr>\n",
              "      <th>2</th>\n",
              "      <td>Are worker's qualified for job they are author...</td>\n",
              "    </tr>\n",
              "    <tr>\n",
              "      <th>3</th>\n",
              "      <td>Is the permit available at the worksite?</td>\n",
              "    </tr>\n",
              "    <tr>\n",
              "      <th>4</th>\n",
              "      <td>Is the work authorization documentation / perm...</td>\n",
              "    </tr>\n",
              "  </tbody>\n",
              "</table>\n",
              "</div>\n",
              "      <button class=\"colab-df-convert\" onclick=\"convertToInteractive('df-697bb817-69c0-4aa6-bfef-9a8d5afc764d')\"\n",
              "              title=\"Convert this dataframe to an interactive table.\"\n",
              "              style=\"display:none;\">\n",
              "        \n",
              "  <svg xmlns=\"http://www.w3.org/2000/svg\" height=\"24px\"viewBox=\"0 0 24 24\"\n",
              "       width=\"24px\">\n",
              "    <path d=\"M0 0h24v24H0V0z\" fill=\"none\"/>\n",
              "    <path d=\"M18.56 5.44l.94 2.06.94-2.06 2.06-.94-2.06-.94-.94-2.06-.94 2.06-2.06.94zm-11 1L8.5 8.5l.94-2.06 2.06-.94-2.06-.94L8.5 2.5l-.94 2.06-2.06.94zm10 10l.94 2.06.94-2.06 2.06-.94-2.06-.94-.94-2.06-.94 2.06-2.06.94z\"/><path d=\"M17.41 7.96l-1.37-1.37c-.4-.4-.92-.59-1.43-.59-.52 0-1.04.2-1.43.59L10.3 9.45l-7.72 7.72c-.78.78-.78 2.05 0 2.83L4 21.41c.39.39.9.59 1.41.59.51 0 1.02-.2 1.41-.59l7.78-7.78 2.81-2.81c.8-.78.8-2.07 0-2.86zM5.41 20L4 18.59l7.72-7.72 1.47 1.35L5.41 20z\"/>\n",
              "  </svg>\n",
              "      </button>\n",
              "      \n",
              "  <style>\n",
              "    .colab-df-container {\n",
              "      display:flex;\n",
              "      flex-wrap:wrap;\n",
              "      gap: 12px;\n",
              "    }\n",
              "\n",
              "    .colab-df-convert {\n",
              "      background-color: #E8F0FE;\n",
              "      border: none;\n",
              "      border-radius: 50%;\n",
              "      cursor: pointer;\n",
              "      display: none;\n",
              "      fill: #1967D2;\n",
              "      height: 32px;\n",
              "      padding: 0 0 0 0;\n",
              "      width: 32px;\n",
              "    }\n",
              "\n",
              "    .colab-df-convert:hover {\n",
              "      background-color: #E2EBFA;\n",
              "      box-shadow: 0px 1px 2px rgba(60, 64, 67, 0.3), 0px 1px 3px 1px rgba(60, 64, 67, 0.15);\n",
              "      fill: #174EA6;\n",
              "    }\n",
              "\n",
              "    [theme=dark] .colab-df-convert {\n",
              "      background-color: #3B4455;\n",
              "      fill: #D2E3FC;\n",
              "    }\n",
              "\n",
              "    [theme=dark] .colab-df-convert:hover {\n",
              "      background-color: #434B5C;\n",
              "      box-shadow: 0px 1px 3px 1px rgba(0, 0, 0, 0.15);\n",
              "      filter: drop-shadow(0px 1px 2px rgba(0, 0, 0, 0.3));\n",
              "      fill: #FFFFFF;\n",
              "    }\n",
              "  </style>\n",
              "\n",
              "      <script>\n",
              "        const buttonEl =\n",
              "          document.querySelector('#df-697bb817-69c0-4aa6-bfef-9a8d5afc764d button.colab-df-convert');\n",
              "        buttonEl.style.display =\n",
              "          google.colab.kernel.accessAllowed ? 'block' : 'none';\n",
              "\n",
              "        async function convertToInteractive(key) {\n",
              "          const element = document.querySelector('#df-697bb817-69c0-4aa6-bfef-9a8d5afc764d');\n",
              "          const dataTable =\n",
              "            await google.colab.kernel.invokeFunction('convertToInteractive',\n",
              "                                                     [key], {});\n",
              "          if (!dataTable) return;\n",
              "\n",
              "          const docLinkHtml = 'Like what you see? Visit the ' +\n",
              "            '<a target=\"_blank\" href=https://colab.research.google.com/notebooks/data_table.ipynb>data table notebook</a>'\n",
              "            + ' to learn more about interactive tables.';\n",
              "          element.innerHTML = '';\n",
              "          dataTable['output_type'] = 'display_data';\n",
              "          await google.colab.output.renderOutput(dataTable, element);\n",
              "          const docLink = document.createElement('div');\n",
              "          docLink.innerHTML = docLinkHtml;\n",
              "          element.appendChild(docLink);\n",
              "        }\n",
              "      </script>\n",
              "    </div>\n",
              "  </div>\n",
              "  "
            ]
          },
          "metadata": {},
          "execution_count": 256
        }
      ]
    },
    {
      "cell_type": "code",
      "source": [
        "# we are using tokenization and bag of word on Question column\n",
        "corpus = []\n",
        "for i in range(0, len(Ques)):\n",
        "    review = re.sub('[^a-zA-Z]', ' ', Ques['Questions'][i])\n",
        "    review = review.lower()\n",
        "    review = review.split()\n",
        "    \n",
        "    review = [ps.stem(word) for word in review if not word in stopwords.words('english')]\n",
        "    review = ' '.join(review)\n",
        "    corpus.append(review)"
      ],
      "metadata": {
        "id": "Itb87sdDWawo"
      },
      "execution_count": 257,
      "outputs": []
    },
    {
      "cell_type": "code",
      "source": [
        "# Creating the Bag of Words model\n",
        "from sklearn.feature_extraction.text import CountVectorizer\n",
        "cv = CountVectorizer(max_features=100)\n",
        "X = cv.fit_transform(corpus).toarray()\n",
        "X=pd.DataFrame(X)"
      ],
      "metadata": {
        "id": "ossosX1iXQ7c"
      },
      "execution_count": 258,
      "outputs": []
    },
    {
      "cell_type": "code",
      "source": [
        "# Encode labels in column 'Questions'.\n",
        "df['Questions']= label_encoder.fit_transform(df['Questions'])"
      ],
      "metadata": {
        "id": "04ojVE2Rp6Pn"
      },
      "execution_count": 259,
      "outputs": []
    },
    {
      "cell_type": "code",
      "source": [
        "# taking essential column for clustering \n",
        "X=pd.DataFrame(df[['Area Id',\t'Area',\t'Assessment Week','Assessment Id','Asset Id','Questions','Risk or Positive','Risk Rating','Work Group Id']])"
      ],
      "metadata": {
        "id": "ry_l_0HkYM6A"
      },
      "execution_count": 264,
      "outputs": []
    },
    {
      "cell_type": "code",
      "source": [
        "cols = X.columns"
      ],
      "metadata": {
        "id": "5LtYFeJSqbiE"
      },
      "execution_count": 265,
      "outputs": []
    },
    {
      "cell_type": "code",
      "source": [
        "# performing min max scaler to transform all datapoints in a same scale\n",
        "from sklearn.preprocessing import MinMaxScaler\n",
        "\n",
        "ms = MinMaxScaler()\n",
        "\n",
        "X = ms.fit_transform(X)"
      ],
      "metadata": {
        "id": "y2HzdtuGqn3H"
      },
      "execution_count": 266,
      "outputs": []
    },
    {
      "cell_type": "code",
      "source": [
        "X = pd.DataFrame(X, columns=[cols])"
      ],
      "metadata": {
        "id": "j9XgxRTeqqb9"
      },
      "execution_count": 267,
      "outputs": []
    },
    {
      "cell_type": "code",
      "source": [
        "#performing k means clustering\n",
        "from sklearn.cluster import KMeans\n",
        "\n",
        "kmeans = KMeans(n_clusters=2, random_state=0) \n",
        "\n",
        "kmeans.fit(X)"
      ],
      "metadata": {
        "colab": {
          "base_uri": "https://localhost:8080/"
        },
        "id": "PjLfcx8IqtGR",
        "outputId": "ee5ba524-26e6-4b0c-bdff-92bcde569338"
      },
      "execution_count": 268,
      "outputs": [
        {
          "output_type": "stream",
          "name": "stderr",
          "text": [
            "/usr/local/lib/python3.7/dist-packages/sklearn/utils/validation.py:1692: FutureWarning: Feature names only support names that are all strings. Got feature names with dtypes: ['tuple']. An error will be raised in 1.2.\n",
            "  FutureWarning,\n"
          ]
        },
        {
          "output_type": "execute_result",
          "data": {
            "text/plain": [
              "KMeans(n_clusters=2, random_state=0)"
            ]
          },
          "metadata": {},
          "execution_count": 268
        }
      ]
    },
    {
      "cell_type": "code",
      "source": [
        "labels = kmeans.labels_\n",
        "\n",
        "# check how many of the samples were correctly labeled\n",
        "correct_labels = sum(y == labels)\n",
        "\n",
        "print(\"Result: %d out of %d samples were correctly labeled.\" % (correct_labels, y.size))"
      ],
      "metadata": {
        "colab": {
          "base_uri": "https://localhost:8080/"
        },
        "id": "-XtO0lKQqwYR",
        "outputId": "ca0cc454-bb34-4c74-84cd-4abffc56bdc3"
      },
      "execution_count": 269,
      "outputs": [
        {
          "output_type": "stream",
          "name": "stdout",
          "text": [
            "Result: 2883 out of 4572 samples were correctly labeled.\n"
          ]
        }
      ]
    },
    {
      "cell_type": "code",
      "source": [
        "print('Accuracy score: {0:0.2f}'. format(correct_labels/float(y.size)))"
      ],
      "metadata": {
        "colab": {
          "base_uri": "https://localhost:8080/"
        },
        "id": "_z5J_ABlq6JE",
        "outputId": "a124ddef-e903-44e5-e60f-72706999c4d4"
      },
      "execution_count": 270,
      "outputs": [
        {
          "output_type": "stream",
          "name": "stdout",
          "text": [
            "Accuracy score: 0.63\n"
          ]
        }
      ]
    },
    {
      "cell_type": "code",
      "source": [
        "from sklearn.cluster import KMeans\n",
        "cs = []\n",
        "for i in range(1, 11):\n",
        "    kmeans = KMeans(n_clusters = i, init = 'k-means++', max_iter = 300, n_init = 10, random_state = 0)\n",
        "    kmeans.fit(X)\n",
        "    cs.append(kmeans.inertia_)\n",
        "plt.plot(range(1, 11), cs)\n",
        "plt.title('The Elbow Method')\n",
        "plt.xlabel('Number of clusters')\n",
        "plt.ylabel('CS')\n",
        "plt.show()"
      ],
      "metadata": {
        "colab": {
          "base_uri": "https://localhost:8080/",
          "height": 668
        },
        "id": "w7ZTHMdRrA1L",
        "outputId": "59e31faa-2d11-4178-e9b7-4afc35ae45ad"
      },
      "execution_count": 271,
      "outputs": [
        {
          "output_type": "stream",
          "name": "stderr",
          "text": [
            "/usr/local/lib/python3.7/dist-packages/sklearn/utils/validation.py:1692: FutureWarning: Feature names only support names that are all strings. Got feature names with dtypes: ['tuple']. An error will be raised in 1.2.\n",
            "  FutureWarning,\n",
            "/usr/local/lib/python3.7/dist-packages/sklearn/utils/validation.py:1692: FutureWarning: Feature names only support names that are all strings. Got feature names with dtypes: ['tuple']. An error will be raised in 1.2.\n",
            "  FutureWarning,\n",
            "/usr/local/lib/python3.7/dist-packages/sklearn/utils/validation.py:1692: FutureWarning: Feature names only support names that are all strings. Got feature names with dtypes: ['tuple']. An error will be raised in 1.2.\n",
            "  FutureWarning,\n",
            "/usr/local/lib/python3.7/dist-packages/sklearn/utils/validation.py:1692: FutureWarning: Feature names only support names that are all strings. Got feature names with dtypes: ['tuple']. An error will be raised in 1.2.\n",
            "  FutureWarning,\n",
            "/usr/local/lib/python3.7/dist-packages/sklearn/utils/validation.py:1692: FutureWarning: Feature names only support names that are all strings. Got feature names with dtypes: ['tuple']. An error will be raised in 1.2.\n",
            "  FutureWarning,\n",
            "/usr/local/lib/python3.7/dist-packages/sklearn/utils/validation.py:1692: FutureWarning: Feature names only support names that are all strings. Got feature names with dtypes: ['tuple']. An error will be raised in 1.2.\n",
            "  FutureWarning,\n",
            "/usr/local/lib/python3.7/dist-packages/sklearn/utils/validation.py:1692: FutureWarning: Feature names only support names that are all strings. Got feature names with dtypes: ['tuple']. An error will be raised in 1.2.\n",
            "  FutureWarning,\n",
            "/usr/local/lib/python3.7/dist-packages/sklearn/utils/validation.py:1692: FutureWarning: Feature names only support names that are all strings. Got feature names with dtypes: ['tuple']. An error will be raised in 1.2.\n",
            "  FutureWarning,\n",
            "/usr/local/lib/python3.7/dist-packages/sklearn/utils/validation.py:1692: FutureWarning: Feature names only support names that are all strings. Got feature names with dtypes: ['tuple']. An error will be raised in 1.2.\n",
            "  FutureWarning,\n",
            "/usr/local/lib/python3.7/dist-packages/sklearn/utils/validation.py:1692: FutureWarning: Feature names only support names that are all strings. Got feature names with dtypes: ['tuple']. An error will be raised in 1.2.\n",
            "  FutureWarning,\n"
          ]
        },
        {
          "output_type": "display_data",
          "data": {
            "text/plain": [
              "<Figure size 432x288 with 1 Axes>"
            ],
            "image/png": "[encoded data removed]"
          },
          "metadata": {
            "needs_background": "light"
          }
        }
      ]
    },
    {
      "cell_type": "code",
      "source": [
        "kmeans = KMeans(n_clusters=1, random_state=0) \n",
        "\n",
        "kmeans.fit(X)"
      ],
      "metadata": {
        "colab": {
          "base_uri": "https://localhost:8080/"
        },
        "id": "jqv-n_3_rHV8",
        "outputId": "c2b32165-819e-438e-ec5c-d5d105443017"
      },
      "execution_count": 278,
      "outputs": [
        {
          "output_type": "stream",
          "name": "stderr",
          "text": [
            "/usr/local/lib/python3.7/dist-packages/sklearn/utils/validation.py:1692: FutureWarning: Feature names only support names that are all strings. Got feature names with dtypes: ['tuple']. An error will be raised in 1.2.\n",
            "  FutureWarning,\n"
          ]
        },
        {
          "output_type": "execute_result",
          "data": {
            "text/plain": [
              "KMeans(n_clusters=1, random_state=0)"
            ]
          },
          "metadata": {},
          "execution_count": 278
        }
      ]
    },
    {
      "cell_type": "code",
      "source": [
        "labels = kmeans.labels_\n",
        "\n",
        "# check how many of the samples were correctly labeled\n",
        "correct_labels = sum(y == labels)\n",
        "\n",
        "print(\"Result: %d out of %d samples were correctly labeled.\" % (correct_labels, y.size))"
      ],
      "metadata": {
        "colab": {
          "base_uri": "https://localhost:8080/"
        },
        "id": "2g2TNdwdrgIl",
        "outputId": "32b81197-a5e9-4d66-d619-0a8efa6f3da1"
      },
      "execution_count": 279,
      "outputs": [
        {
          "output_type": "stream",
          "name": "stdout",
          "text": [
            "Result: 4570 out of 4572 samples were correctly labeled.\n"
          ]
        }
      ]
    },
    {
      "cell_type": "code",
      "source": [
        "print('Accuracy score: {0:0.2f}'. format(correct_labels/float(y.size)))"
      ],
      "metadata": {
        "colab": {
          "base_uri": "https://localhost:8080/"
        },
        "id": "16sUgiBtrpQF",
        "outputId": "3af2934a-a7c5-4ecc-8167-d2d72ba7574d"
      },
      "execution_count": 280,
      "outputs": [
        {
          "output_type": "stream",
          "name": "stdout",
          "text": [
            "Accuracy score: 1.00\n"
          ]
        }
      ]
    },
    {
      "cell_type": "markdown",
      "source": [
        "# **2. Associate a risk score per term**"
      ],
      "metadata": {
        "id": "w7V7VA_Dr6yk"
      }
    },
    {
      "cell_type": "code",
      "source": [
        "# counting the number of occurance of each key in Risk Rating\n",
        "df['Risk Rating'].value_counts()"
      ],
      "metadata": {
        "colab": {
          "base_uri": "https://localhost:8080/"
        },
        "id": "FuHIeVD5rtyG",
        "outputId": "68a559d9-02c5-4bd3-ef99-a9101282daec"
      },
      "execution_count": 281,
      "outputs": [
        {
          "output_type": "execute_result",
          "data": {
            "text/plain": [
              "1    2231\n",
              "2    2124\n",
              "3     217\n",
              "Name: Risk Rating, dtype: int64"
            ]
          },
          "metadata": {},
          "execution_count": 281
        }
      ]
    },
    {
      "cell_type": "code",
      "source": [
        "# Finding the Risk Percentage of each key\n",
        "a=round((2231*100)/(2231+2124+217),2)\n",
        "b=round((2124*100)/(2231+2124+217),2)\n",
        "c=round((217*100)/(2231+2124+217),2)"
      ],
      "metadata": {
        "id": "2zg437wzsVAZ"
      },
      "execution_count": 292,
      "outputs": []
    },
    {
      "cell_type": "code",
      "source": [
        "print(a,b,c)"
      ],
      "metadata": {
        "colab": {
          "base_uri": "https://localhost:8080/"
        },
        "id": "9_AuBTp4srhw",
        "outputId": "8285f767-8a8e-4661-9c19-5a0ca438238c"
      },
      "execution_count": 293,
      "outputs": [
        {
          "output_type": "stream",
          "name": "stdout",
          "text": [
            "48.8 46.46 4.75\n"
          ]
        }
      ]
    },
    {
      "cell_type": "code",
      "source": [
        "#creating a list of risk score\n",
        "risk_score=[]\n",
        "for i in df['Risk Rating']:\n",
        "  if i == 1:\n",
        "    risk_score.append(a)\n",
        "  elif i == 2:\n",
        "    risk_score.append(b)\n",
        "  else:\n",
        "    risk_score.append(c)"
      ],
      "metadata": {
        "id": "CrgcZW9Vssaj"
      },
      "execution_count": 294,
      "outputs": []
    },
    {
      "cell_type": "code",
      "source": [
        "# adding Risk Score column to datafame \n",
        "df1['Risk_Score']=risk_score"
      ],
      "metadata": {
        "id": "NSzx7_XKuJH1"
      },
      "execution_count": 297,
      "outputs": []
    },
    {
      "cell_type": "code",
      "source": [
        "# Now see the DataSet with Risk_score column\n",
        "df1.head()"
      ],
      "metadata": {
        "colab": {
          "base_uri": "https://localhost:8080/",
          "height": 476
        },
        "id": "4qUjCdK6uRez",
        "outputId": "53575150-c85f-44af-ac41-07496d1347cd"
      },
      "execution_count": 298,
      "outputs": [
        {
          "output_type": "execute_result",
          "data": {
            "text/plain": [
              "   Area Id                     Area  Column1 Assessment Week  Assessment Id  \\\n",
              "0      572  1000 - Process Train #1      NaN      2021-01-03            404   \n",
              "1      572  1000 - Process Train #1      NaN      2021-01-03            408   \n",
              "2      572  1000 - Process Train #1      NaN      2021-01-03            408   \n",
              "3      572  1000 - Process Train #1      NaN      2021-01-03            408   \n",
              "4      572  1000 - Process Train #1      NaN      2021-01-03            408   \n",
              "\n",
              "           Assessment  Asset Id             Week Range  \\\n",
              "0      General Safety        37  January 3 - January 9   \n",
              "1  Work Authorization        37  January 3 - January 9   \n",
              "2  Work Authorization        37  January 3 - January 9   \n",
              "3  Work Authorization        37  January 3 - January 9   \n",
              "4  Work Authorization        37  January 3 - January 9   \n",
              "\n",
              "                                           Questions Risk or Positive  \\\n",
              "0                Is barrier tape or rope being used?          At Risk   \n",
              "1  Are all permit or work authorization documents...         Positive   \n",
              "2  Are worker's qualified for job they are author...         Positive   \n",
              "3           Is the permit available at the worksite?         Positive   \n",
              "4  Is the work authorization documentation / perm...         Positive   \n",
              "\n",
              "  Risk Rating Assessment Date  Work Group Id  Risk_Score  \n",
              "0      Medium      2021-01-07           1035       46.46  \n",
              "1      Medium      2021-01-05           1034       46.46  \n",
              "2      Medium      2021-01-05           1034       46.46  \n",
              "3      Medium      2021-01-05           1034       46.46  \n",
              "4      Medium      2021-01-05           1034       46.46  "
            ],
            "text/html": [
              "\n",
              "  <div id=\"df-6cd41ca0-7532-49a7-bc95-a25ccdf1853c\">\n",
              "    <div class=\"colab-df-container\">\n",
              "      <div>\n",
              "<style scoped>\n",
              "    .dataframe tbody tr th:only-of-type {\n",
              "        vertical-align: middle;\n",
              "    }\n",
              "\n",
              "    .dataframe tbody tr th {\n",
              "        vertical-align: top;\n",
              "    }\n",
              "\n",
              "    .dataframe thead th {\n",
              "        text-align: right;\n",
              "    }\n",
              "</style>\n",
              "<table border=\"1\" class=\"dataframe\">\n",
              "  <thead>\n",
              "    <tr style=\"text-align: right;\">\n",
              "      <th></th>\n",
              "      <th>Area Id</th>\n",
              "      <th>Area</th>\n",
              "      <th>Column1</th>\n",
              "      <th>Assessment Week</th>\n",
              "      <th>Assessment Id</th>\n",
              "      <th>Assessment</th>\n",
              "      <th>Asset Id</th>\n",
              "      <th>Week Range</th>\n",
              "      <th>Questions</th>\n",
              "      <th>Risk or Positive</th>\n",
              "      <th>Risk Rating</th>\n",
              "      <th>Assessment Date</th>\n",
              "      <th>Work Group Id</th>\n",
              "      <th>Risk_Score</th>\n",
              "    </tr>\n",
              "  </thead>\n",
              "  <tbody>\n",
              "    <tr>\n",
              "      <th>0</th>\n",
              "      <td>572</td>\n",
              "      <td>1000 - Process Train #1</td>\n",
              "      <td>NaN</td>\n",
              "      <td>2021-01-03</td>\n",
              "      <td>404</td>\n",
              "      <td>General Safety</td>\n",
              "      <td>37</td>\n",
              "      <td>January 3 - January 9</td>\n",
              "      <td>Is barrier tape or rope being used?</td>\n",
              "      <td>At Risk</td>\n",
              "      <td>Medium</td>\n",
              "      <td>2021-01-07</td>\n",
              "      <td>1035</td>\n",
              "      <td>46.46</td>\n",
              "    </tr>\n",
              "    <tr>\n",
              "      <th>1</th>\n",
              "      <td>572</td>\n",
              "      <td>1000 - Process Train #1</td>\n",
              "      <td>NaN</td>\n",
              "      <td>2021-01-03</td>\n",
              "      <td>408</td>\n",
              "      <td>Work Authorization</td>\n",
              "      <td>37</td>\n",
              "      <td>January 3 - January 9</td>\n",
              "      <td>Are all permit or work authorization documents...</td>\n",
              "      <td>Positive</td>\n",
              "      <td>Medium</td>\n",
              "      <td>2021-01-05</td>\n",
              "      <td>1034</td>\n",
              "      <td>46.46</td>\n",
              "    </tr>\n",
              "    <tr>\n",
              "      <th>2</th>\n",
              "      <td>572</td>\n",
              "      <td>1000 - Process Train #1</td>\n",
              "      <td>NaN</td>\n",
              "      <td>2021-01-03</td>\n",
              "      <td>408</td>\n",
              "      <td>Work Authorization</td>\n",
              "      <td>37</td>\n",
              "      <td>January 3 - January 9</td>\n",
              "      <td>Are worker's qualified for job they are author...</td>\n",
              "      <td>Positive</td>\n",
              "      <td>Medium</td>\n",
              "      <td>2021-01-05</td>\n",
              "      <td>1034</td>\n",
              "      <td>46.46</td>\n",
              "    </tr>\n",
              "    <tr>\n",
              "      <th>3</th>\n",
              "      <td>572</td>\n",
              "      <td>1000 - Process Train #1</td>\n",
              "      <td>NaN</td>\n",
              "      <td>2021-01-03</td>\n",
              "      <td>408</td>\n",
              "      <td>Work Authorization</td>\n",
              "      <td>37</td>\n",
              "      <td>January 3 - January 9</td>\n",
              "      <td>Is the permit available at the worksite?</td>\n",
              "      <td>Positive</td>\n",
              "      <td>Medium</td>\n",
              "      <td>2021-01-05</td>\n",
              "      <td>1034</td>\n",
              "      <td>46.46</td>\n",
              "    </tr>\n",
              "    <tr>\n",
              "      <th>4</th>\n",
              "      <td>572</td>\n",
              "      <td>1000 - Process Train #1</td>\n",
              "      <td>NaN</td>\n",
              "      <td>2021-01-03</td>\n",
              "      <td>408</td>\n",
              "      <td>Work Authorization</td>\n",
              "      <td>37</td>\n",
              "      <td>January 3 - January 9</td>\n",
              "      <td>Is the work authorization documentation / perm...</td>\n",
              "      <td>Positive</td>\n",
              "      <td>Medium</td>\n",
              "      <td>2021-01-05</td>\n",
              "      <td>1034</td>\n",
              "      <td>46.46</td>\n",
              "    </tr>\n",
              "  </tbody>\n",
              "</table>\n",
              "</div>\n",
              "      <button class=\"colab-df-convert\" onclick=\"convertToInteractive('df-6cd41ca0-7532-49a7-bc95-a25ccdf1853c')\"\n",
              "              title=\"Convert this dataframe to an interactive table.\"\n",
              "              style=\"display:none;\">\n",
              "        \n",
              "  <svg xmlns=\"http://www.w3.org/2000/svg\" height=\"24px\"viewBox=\"0 0 24 24\"\n",
              "       width=\"24px\">\n",
              "    <path d=\"M0 0h24v24H0V0z\" fill=\"none\"/>\n",
              "    <path d=\"M18.56 5.44l.94 2.06.94-2.06 2.06-.94-2.06-.94-.94-2.06-.94 2.06-2.06.94zm-11 1L8.5 8.5l.94-2.06 2.06-.94-2.06-.94L8.5 2.5l-.94 2.06-2.06.94zm10 10l.94 2.06.94-2.06 2.06-.94-2.06-.94-.94-2.06-.94 2.06-2.06.94z\"/><path d=\"M17.41 7.96l-1.37-1.37c-.4-.4-.92-.59-1.43-.59-.52 0-1.04.2-1.43.59L10.3 9.45l-7.72 7.72c-.78.78-.78 2.05 0 2.83L4 21.41c.39.39.9.59 1.41.59.51 0 1.02-.2 1.41-.59l7.78-7.78 2.81-2.81c.8-.78.8-2.07 0-2.86zM5.41 20L4 18.59l7.72-7.72 1.47 1.35L5.41 20z\"/>\n",
              "  </svg>\n",
              "      </button>\n",
              "      \n",
              "  <style>\n",
              "    .colab-df-container {\n",
              "      display:flex;\n",
              "      flex-wrap:wrap;\n",
              "      gap: 12px;\n",
              "    }\n",
              "\n",
              "    .colab-df-convert {\n",
              "      background-color: #E8F0FE;\n",
              "      border: none;\n",
              "      border-radius: 50%;\n",
              "      cursor: pointer;\n",
              "      display: none;\n",
              "      fill: #1967D2;\n",
              "      height: 32px;\n",
              "      padding: 0 0 0 0;\n",
              "      width: 32px;\n",
              "    }\n",
              "\n",
              "    .colab-df-convert:hover {\n",
              "      background-color: #E2EBFA;\n",
              "      box-shadow: 0px 1px 2px rgba(60, 64, 67, 0.3), 0px 1px 3px 1px rgba(60, 64, 67, 0.15);\n",
              "      fill: #174EA6;\n",
              "    }\n",
              "\n",
              "    [theme=dark] .colab-df-convert {\n",
              "      background-color: #3B4455;\n",
              "      fill: #D2E3FC;\n",
              "    }\n",
              "\n",
              "    [theme=dark] .colab-df-convert:hover {\n",
              "      background-color: #434B5C;\n",
              "      box-shadow: 0px 1px 3px 1px rgba(0, 0, 0, 0.15);\n",
              "      filter: drop-shadow(0px 1px 2px rgba(0, 0, 0, 0.3));\n",
              "      fill: #FFFFFF;\n",
              "    }\n",
              "  </style>\n",
              "\n",
              "      <script>\n",
              "        const buttonEl =\n",
              "          document.querySelector('#df-6cd41ca0-7532-49a7-bc95-a25ccdf1853c button.colab-df-convert');\n",
              "        buttonEl.style.display =\n",
              "          google.colab.kernel.accessAllowed ? 'block' : 'none';\n",
              "\n",
              "        async function convertToInteractive(key) {\n",
              "          const element = document.querySelector('#df-6cd41ca0-7532-49a7-bc95-a25ccdf1853c');\n",
              "          const dataTable =\n",
              "            await google.colab.kernel.invokeFunction('convertToInteractive',\n",
              "                                                     [key], {});\n",
              "          if (!dataTable) return;\n",
              "\n",
              "          const docLinkHtml = 'Like what you see? Visit the ' +\n",
              "            '<a target=\"_blank\" href=https://colab.research.google.com/notebooks/data_table.ipynb>data table notebook</a>'\n",
              "            + ' to learn more about interactive tables.';\n",
              "          element.innerHTML = '';\n",
              "          dataTable['output_type'] = 'display_data';\n",
              "          await google.colab.output.renderOutput(dataTable, element);\n",
              "          const docLink = document.createElement('div');\n",
              "          docLink.innerHTML = docLinkHtml;\n",
              "          element.appendChild(docLink);\n",
              "        }\n",
              "      </script>\n",
              "    </div>\n",
              "  </div>\n",
              "  "
            ]
          },
          "metadata": {},
          "execution_count": 298
        }
      ]
    },
    {
      "cell_type": "code",
      "source": [
        ""
      ],
      "metadata": {
        "id": "6Uo2Pg66uS7K"
      },
      "execution_count": null,
      "outputs": []
    }
  ]
}