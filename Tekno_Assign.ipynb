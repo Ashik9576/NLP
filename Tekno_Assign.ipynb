{
  "nbformat": 4,
  "nbformat_minor": 0,
  "metadata": {
    "colab": {
      "name": "Tekno_Assign.ipynb",
      "provenance": [],
      "collapsed_sections": [
        "FcmP-pc-4U9W",
        "jiZMmANq4sqN",
        "uXtNFaxK5QPG",
        "sw30JlE855Tj",
        "AR2Mbx3T7sJ5"
      ],
      "authorship_tag": "ABX9TyMb1IdERfeKu68ncCLvvX0z",
      "include_colab_link": true
    },
    "kernelspec": {
      "name": "python3",
      "display_name": "Python 3"
    },
    "language_info": {
      "name": "python"
    }
  },
  "cells": [
    {
      "cell_type": "markdown",
      "metadata": {
        "id": "view-in-github",
        "colab_type": "text"
      },
      "source": [
        "<a href=\"https://colab.research.google.com/github/Ashik9576/NLP/blob/main/Tekno_Assign.ipynb\" target=\"_parent\"><img src=\"https://colab.research.google.com/assets/colab-badge.svg\" alt=\"Open In Colab\"/></a>"
      ]
    },
    {
      "cell_type": "markdown",
      "source": [
        "# **Key Objectives**\n",
        "Prepare the following deliverables and present under time constraints with the limited\n",
        "information and with logical assumptions as required. Kindly study the details as mentioned\n",
        "in the assignment. Kindly note any references and assumptions at the bottom."
      ],
      "metadata": {
        "id": "TN8hGHge3wvh"
      }
    },
    {
      "cell_type": "markdown",
      "source": [
        "# **Context and Data**\n",
        "The dataset provided refers to the assessment of level of risk for specific areas and in the context of a construction site. The auditors need to proceed with different type of assessment replying to specific questions and judge the level of risk (At risk or Positive). A risk rating is associated to every risk based on the judgement of the auditors. Refer to the dataset provided to complete the requested key deliverables.\n",
        "\n",
        "A brief explanation of the data is given here:\n",
        "\n",
        "* Area Id (integer) - Unique id per area\n",
        "* Area (string) - Area names\n",
        "* Assessment (string) - Groups of Assessments\n",
        "* Sub Assessments (string) - Groups of Sub Assessments\n",
        "* Assessment Week (date) - Week in which the assessment was carried out\n",
        "* Assessment Id (int) - Unique id per assessment\n",
        "* Asset Id (int) - Unique id per asset\n",
        "* Week range (string) - Week in which the assessment was carried out\n",
        "* Questions (string) - Questions asked per assessment\n",
        "* Risk or Positive (string) - Was the assessment deemed risky or not\n",
        "* Risk rating (string) - Risk rating of the assessment\n",
        "* Assessment date (date) - Exact date when the assessment was carried out\n",
        "* Work Group Id (int) - Work Group Id of the assessment (One Work Group can have\n",
        "many assessments)"
      ],
      "metadata": {
        "id": "0Geckr4n33bi"
      }
    },
    {
      "cell_type": "markdown",
      "source": [
        "# **Importing Required Libraries and mounting drive**"
      ],
      "metadata": {
        "id": "FcmP-pc-4U9W"
      }
    },
    {
      "cell_type": "code",
      "source": [
        "#importing Required Libraries\n",
        "import numpy as np\n",
        "import pandas as pd\n",
        "import matplotlib.pyplot as plt\n",
        "%matplotlib inline\n",
        "import seaborn as sns\n",
        "\n",
        "from sklearn import preprocessing"
      ],
      "metadata": {
        "id": "pYxEVcY0qwE5"
      },
      "execution_count": 1,
      "outputs": []
    },
    {
      "cell_type": "code",
      "source": [
        "#mounting drive\n",
        "from google.colab import drive\n",
        "drive.mount('/content/drive')"
      ],
      "metadata": {
        "colab": {
          "base_uri": "https://localhost:8080/"
        },
        "id": "inZT_lR4276r",
        "outputId": "4257e1f8-33c4-4a73-cb42-5f0c0de4aa97"
      },
      "execution_count": 2,
      "outputs": [
        {
          "output_type": "stream",
          "name": "stdout",
          "text": [
            "Mounted at /content/drive\n"
          ]
        }
      ]
    },
    {
      "cell_type": "markdown",
      "source": [
        "# **Loading Dataset**"
      ],
      "metadata": {
        "id": "jiZMmANq4sqN"
      }
    },
    {
      "cell_type": "code",
      "source": [
        "#loading dataset\n",
        "df1=pd.read_excel('/content/drive/My Drive/ Teknobuilt Assignment/safety_ sheet.xlsx')"
      ],
      "metadata": {
        "id": "quh9t5AlrO8y"
      },
      "execution_count": 3,
      "outputs": []
    },
    {
      "cell_type": "code",
      "source": [
        "# creating copy of dataset\n",
        "df=df1.copy()"
      ],
      "metadata": {
        "id": "hL3Qd_Sh5BtO"
      },
      "execution_count": 4,
      "outputs": []
    },
    {
      "cell_type": "markdown",
      "source": [
        "# **File Structure and content**"
      ],
      "metadata": {
        "id": "uXtNFaxK5QPG"
      }
    },
    {
      "cell_type": "code",
      "source": [
        "#no. of row and column\n",
        "print(\"We have {} rows.\".format(df.shape[0]))\n",
        "print(\"We have {} columns.\".format(df.shape[1]))"
      ],
      "metadata": {
        "colab": {
          "base_uri": "https://localhost:8080/"
        },
        "id": "t7cpjnp2fdcH",
        "outputId": "bdcfea53-22ed-4fce-b4ec-849800439170"
      },
      "execution_count": 5,
      "outputs": [
        {
          "output_type": "stream",
          "name": "stdout",
          "text": [
            "We have 4572 rows.\n",
            "We have 13 columns.\n"
          ]
        }
      ]
    },
    {
      "cell_type": "code",
      "source": [
        "#accessing a rows\n",
        "df.iloc[1,:]"
      ],
      "metadata": {
        "id": "o9I79jMofqM0",
        "colab": {
          "base_uri": "https://localhost:8080/"
        },
        "outputId": "bd4c79b4-fac2-46d2-b7a2-f5584fb25737"
      },
      "execution_count": 6,
      "outputs": [
        {
          "output_type": "execute_result",
          "data": {
            "text/plain": [
              "Area Id                                                           572\n",
              "Area                                          1000 - Process Train #1\n",
              "Column1                                                           NaN\n",
              "Assessment Week                                   2021-01-03 00:00:00\n",
              "Assessment Id                                                     408\n",
              "Assessment                                         Work Authorization\n",
              "Asset Id                                                           37\n",
              "Week Range                                      January 3 - January 9\n",
              "Questions           Are all permit or work authorization documents...\n",
              "Risk or Positive                                             Positive\n",
              "Risk Rating                                                    Medium\n",
              "Assessment Date                                   2021-01-05 00:00:00\n",
              "Work Group Id                                                    1034\n",
              "Name: 1, dtype: object"
            ]
          },
          "metadata": {},
          "execution_count": 6
        }
      ]
    },
    {
      "cell_type": "markdown",
      "source": [
        "**At first galance, We have seen that the type of each variable and how they look like.**"
      ],
      "metadata": {
        "id": "S3cQIY4W5yMw"
      }
    },
    {
      "cell_type": "markdown",
      "source": [
        "# **MISSING VALUES**\n",
        "Knowing about missing values is important because they indicate how much we dont's know about our data. Making inferences based on just a few cases is often unwise. In addition, many modelling procedures break down when missing values are involved and the corresponding rows will either have to be removed completely or the values need to be estimated somehow."
      ],
      "metadata": {
        "id": "sw30JlE855Tj"
      }
    },
    {
      "cell_type": "code",
      "source": [
        "#check null values in Data frame\n",
        "df.isnull().sum()"
      ],
      "metadata": {
        "colab": {
          "base_uri": "https://localhost:8080/"
        },
        "id": "77bdxzh75ik7",
        "outputId": "2b934f05-653f-4aa5-f206-145882670f78"
      },
      "execution_count": 7,
      "outputs": [
        {
          "output_type": "execute_result",
          "data": {
            "text/plain": [
              "Area Id                0\n",
              "Area                   0\n",
              "Column1             4572\n",
              "Assessment Week        0\n",
              "Assessment Id          0\n",
              "Assessment             0\n",
              "Asset Id               0\n",
              "Week Range             0\n",
              "Questions              0\n",
              "Risk or Positive       0\n",
              "Risk Rating            0\n",
              "Assessment Date        0\n",
              "Work Group Id          0\n",
              "dtype: int64"
            ]
          },
          "metadata": {},
          "execution_count": 7
        }
      ]
    },
    {
      "cell_type": "markdown",
      "source": [
        "There is a column1 have missing value in each row so we have to drop this column"
      ],
      "metadata": {
        "id": "tvLnJI1q6OpN"
      }
    },
    {
      "cell_type": "code",
      "source": [
        "df.drop(df.columns[2], axis = 1, inplace = True)"
      ],
      "metadata": {
        "id": "7fEqZGaN6FIk"
      },
      "execution_count": 8,
      "outputs": []
    },
    {
      "cell_type": "code",
      "source": [
        "#check null values in Data frame\n",
        "df.isnull().sum()"
      ],
      "metadata": {
        "colab": {
          "base_uri": "https://localhost:8080/"
        },
        "id": "JbzaDAVn6iGL",
        "outputId": "702afde3-f27f-4205-b9cd-0f3fe5e600fe"
      },
      "execution_count": 9,
      "outputs": [
        {
          "output_type": "execute_result",
          "data": {
            "text/plain": [
              "Area Id             0\n",
              "Area                0\n",
              "Assessment Week     0\n",
              "Assessment Id       0\n",
              "Assessment          0\n",
              "Asset Id            0\n",
              "Week Range          0\n",
              "Questions           0\n",
              "Risk or Positive    0\n",
              "Risk Rating         0\n",
              "Assessment Date     0\n",
              "Work Group Id       0\n",
              "dtype: int64"
            ]
          },
          "metadata": {},
          "execution_count": 9
        }
      ]
    },
    {
      "cell_type": "markdown",
      "source": [
        "# **Describing Dataset**"
      ],
      "metadata": {
        "id": "AR2Mbx3T7sJ5"
      }
    },
    {
      "cell_type": "code",
      "source": [
        "# cheking for first five rows\n",
        "df.head()"
      ],
      "metadata": {
        "colab": {
          "base_uri": "https://localhost:8080/",
          "height": 0
        },
        "id": "bDkbaKxk7aJL",
        "outputId": "70d4791e-2512-4f62-a5b3-4adf702381ca"
      },
      "execution_count": 10,
      "outputs": [
        {
          "output_type": "execute_result",
          "data": {
            "text/plain": [
              "   Area Id                     Area Assessment Week  Assessment Id  \\\n",
              "0      572  1000 - Process Train #1      2021-01-03            404   \n",
              "1      572  1000 - Process Train #1      2021-01-03            408   \n",
              "2      572  1000 - Process Train #1      2021-01-03            408   \n",
              "3      572  1000 - Process Train #1      2021-01-03            408   \n",
              "4      572  1000 - Process Train #1      2021-01-03            408   \n",
              "\n",
              "           Assessment  Asset Id             Week Range  \\\n",
              "0      General Safety        37  January 3 - January 9   \n",
              "1  Work Authorization        37  January 3 - January 9   \n",
              "2  Work Authorization        37  January 3 - January 9   \n",
              "3  Work Authorization        37  January 3 - January 9   \n",
              "4  Work Authorization        37  January 3 - January 9   \n",
              "\n",
              "                                           Questions Risk or Positive  \\\n",
              "0                Is barrier tape or rope being used?          At Risk   \n",
              "1  Are all permit or work authorization documents...         Positive   \n",
              "2  Are worker's qualified for job they are author...         Positive   \n",
              "3           Is the permit available at the worksite?         Positive   \n",
              "4  Is the work authorization documentation / perm...         Positive   \n",
              "\n",
              "  Risk Rating Assessment Date  Work Group Id  \n",
              "0      Medium      2021-01-07           1035  \n",
              "1      Medium      2021-01-05           1034  \n",
              "2      Medium      2021-01-05           1034  \n",
              "3      Medium      2021-01-05           1034  \n",
              "4      Medium      2021-01-05           1034  "
            ],
            "text/html": [
              "\n",
              "  <div id=\"df-ab8a305c-4c80-4599-907d-29e950ac2df5\">\n",
              "    <div class=\"colab-df-container\">\n",
              "      <div>\n",
              "<style scoped>\n",
              "    .dataframe tbody tr th:only-of-type {\n",
              "        vertical-align: middle;\n",
              "    }\n",
              "\n",
              "    .dataframe tbody tr th {\n",
              "        vertical-align: top;\n",
              "    }\n",
              "\n",
              "    .dataframe thead th {\n",
              "        text-align: right;\n",
              "    }\n",
              "</style>\n",
              "<table border=\"1\" class=\"dataframe\">\n",
              "  <thead>\n",
              "    <tr style=\"text-align: right;\">\n",
              "      <th></th>\n",
              "      <th>Area Id</th>\n",
              "      <th>Area</th>\n",
              "      <th>Assessment Week</th>\n",
              "      <th>Assessment Id</th>\n",
              "      <th>Assessment</th>\n",
              "      <th>Asset Id</th>\n",
              "      <th>Week Range</th>\n",
              "      <th>Questions</th>\n",
              "      <th>Risk or Positive</th>\n",
              "      <th>Risk Rating</th>\n",
              "      <th>Assessment Date</th>\n",
              "      <th>Work Group Id</th>\n",
              "    </tr>\n",
              "  </thead>\n",
              "  <tbody>\n",
              "    <tr>\n",
              "      <th>0</th>\n",
              "      <td>572</td>\n",
              "      <td>1000 - Process Train #1</td>\n",
              "      <td>2021-01-03</td>\n",
              "      <td>404</td>\n",
              "      <td>General Safety</td>\n",
              "      <td>37</td>\n",
              "      <td>January 3 - January 9</td>\n",
              "      <td>Is barrier tape or rope being used?</td>\n",
              "      <td>At Risk</td>\n",
              "      <td>Medium</td>\n",
              "      <td>2021-01-07</td>\n",
              "      <td>1035</td>\n",
              "    </tr>\n",
              "    <tr>\n",
              "      <th>1</th>\n",
              "      <td>572</td>\n",
              "      <td>1000 - Process Train #1</td>\n",
              "      <td>2021-01-03</td>\n",
              "      <td>408</td>\n",
              "      <td>Work Authorization</td>\n",
              "      <td>37</td>\n",
              "      <td>January 3 - January 9</td>\n",
              "      <td>Are all permit or work authorization documents...</td>\n",
              "      <td>Positive</td>\n",
              "      <td>Medium</td>\n",
              "      <td>2021-01-05</td>\n",
              "      <td>1034</td>\n",
              "    </tr>\n",
              "    <tr>\n",
              "      <th>2</th>\n",
              "      <td>572</td>\n",
              "      <td>1000 - Process Train #1</td>\n",
              "      <td>2021-01-03</td>\n",
              "      <td>408</td>\n",
              "      <td>Work Authorization</td>\n",
              "      <td>37</td>\n",
              "      <td>January 3 - January 9</td>\n",
              "      <td>Are worker's qualified for job they are author...</td>\n",
              "      <td>Positive</td>\n",
              "      <td>Medium</td>\n",
              "      <td>2021-01-05</td>\n",
              "      <td>1034</td>\n",
              "    </tr>\n",
              "    <tr>\n",
              "      <th>3</th>\n",
              "      <td>572</td>\n",
              "      <td>1000 - Process Train #1</td>\n",
              "      <td>2021-01-03</td>\n",
              "      <td>408</td>\n",
              "      <td>Work Authorization</td>\n",
              "      <td>37</td>\n",
              "      <td>January 3 - January 9</td>\n",
              "      <td>Is the permit available at the worksite?</td>\n",
              "      <td>Positive</td>\n",
              "      <td>Medium</td>\n",
              "      <td>2021-01-05</td>\n",
              "      <td>1034</td>\n",
              "    </tr>\n",
              "    <tr>\n",
              "      <th>4</th>\n",
              "      <td>572</td>\n",
              "      <td>1000 - Process Train #1</td>\n",
              "      <td>2021-01-03</td>\n",
              "      <td>408</td>\n",
              "      <td>Work Authorization</td>\n",
              "      <td>37</td>\n",
              "      <td>January 3 - January 9</td>\n",
              "      <td>Is the work authorization documentation / perm...</td>\n",
              "      <td>Positive</td>\n",
              "      <td>Medium</td>\n",
              "      <td>2021-01-05</td>\n",
              "      <td>1034</td>\n",
              "    </tr>\n",
              "  </tbody>\n",
              "</table>\n",
              "</div>\n",
              "      <button class=\"colab-df-convert\" onclick=\"convertToInteractive('df-ab8a305c-4c80-4599-907d-29e950ac2df5')\"\n",
              "              title=\"Convert this dataframe to an interactive table.\"\n",
              "              style=\"display:none;\">\n",
              "        \n",
              "  <svg xmlns=\"http://www.w3.org/2000/svg\" height=\"24px\"viewBox=\"0 0 24 24\"\n",
              "       width=\"24px\">\n",
              "    <path d=\"M0 0h24v24H0V0z\" fill=\"none\"/>\n",
              "    <path d=\"M18.56 5.44l.94 2.06.94-2.06 2.06-.94-2.06-.94-.94-2.06-.94 2.06-2.06.94zm-11 1L8.5 8.5l.94-2.06 2.06-.94-2.06-.94L8.5 2.5l-.94 2.06-2.06.94zm10 10l.94 2.06.94-2.06 2.06-.94-2.06-.94-.94-2.06-.94 2.06-2.06.94z\"/><path d=\"M17.41 7.96l-1.37-1.37c-.4-.4-.92-.59-1.43-.59-.52 0-1.04.2-1.43.59L10.3 9.45l-7.72 7.72c-.78.78-.78 2.05 0 2.83L4 21.41c.39.39.9.59 1.41.59.51 0 1.02-.2 1.41-.59l7.78-7.78 2.81-2.81c.8-.78.8-2.07 0-2.86zM5.41 20L4 18.59l7.72-7.72 1.47 1.35L5.41 20z\"/>\n",
              "  </svg>\n",
              "      </button>\n",
              "      \n",
              "  <style>\n",
              "    .colab-df-container {\n",
              "      display:flex;\n",
              "      flex-wrap:wrap;\n",
              "      gap: 12px;\n",
              "    }\n",
              "\n",
              "    .colab-df-convert {\n",
              "      background-color: #E8F0FE;\n",
              "      border: none;\n",
              "      border-radius: 50%;\n",
              "      cursor: pointer;\n",
              "      display: none;\n",
              "      fill: #1967D2;\n",
              "      height: 32px;\n",
              "      padding: 0 0 0 0;\n",
              "      width: 32px;\n",
              "    }\n",
              "\n",
              "    .colab-df-convert:hover {\n",
              "      background-color: #E2EBFA;\n",
              "      box-shadow: 0px 1px 2px rgba(60, 64, 67, 0.3), 0px 1px 3px 1px rgba(60, 64, 67, 0.15);\n",
              "      fill: #174EA6;\n",
              "    }\n",
              "\n",
              "    [theme=dark] .colab-df-convert {\n",
              "      background-color: #3B4455;\n",
              "      fill: #D2E3FC;\n",
              "    }\n",
              "\n",
              "    [theme=dark] .colab-df-convert:hover {\n",
              "      background-color: #434B5C;\n",
              "      box-shadow: 0px 1px 3px 1px rgba(0, 0, 0, 0.15);\n",
              "      filter: drop-shadow(0px 1px 2px rgba(0, 0, 0, 0.3));\n",
              "      fill: #FFFFFF;\n",
              "    }\n",
              "  </style>\n",
              "\n",
              "      <script>\n",
              "        const buttonEl =\n",
              "          document.querySelector('#df-ab8a305c-4c80-4599-907d-29e950ac2df5 button.colab-df-convert');\n",
              "        buttonEl.style.display =\n",
              "          google.colab.kernel.accessAllowed ? 'block' : 'none';\n",
              "\n",
              "        async function convertToInteractive(key) {\n",
              "          const element = document.querySelector('#df-ab8a305c-4c80-4599-907d-29e950ac2df5');\n",
              "          const dataTable =\n",
              "            await google.colab.kernel.invokeFunction('convertToInteractive',\n",
              "                                                     [key], {});\n",
              "          if (!dataTable) return;\n",
              "\n",
              "          const docLinkHtml = 'Like what you see? Visit the ' +\n",
              "            '<a target=\"_blank\" href=https://colab.research.google.com/notebooks/data_table.ipynb>data table notebook</a>'\n",
              "            + ' to learn more about interactive tables.';\n",
              "          element.innerHTML = '';\n",
              "          dataTable['output_type'] = 'display_data';\n",
              "          await google.colab.output.renderOutput(dataTable, element);\n",
              "          const docLink = document.createElement('div');\n",
              "          docLink.innerHTML = docLinkHtml;\n",
              "          element.appendChild(docLink);\n",
              "        }\n",
              "      </script>\n",
              "    </div>\n",
              "  </div>\n",
              "  "
            ]
          },
          "metadata": {},
          "execution_count": 10
        }
      ]
    },
    {
      "cell_type": "code",
      "source": [
        "# summery of dataframe\n",
        "df.describe()"
      ],
      "metadata": {
        "colab": {
          "base_uri": "https://localhost:8080/",
          "height": 0
        },
        "id": "oQHYNAU-7yd5",
        "outputId": "f9397b0b-0193-40e6-ffb7-5ed690932a56"
      },
      "execution_count": 11,
      "outputs": [
        {
          "output_type": "execute_result",
          "data": {
            "text/plain": [
              "           Area Id  Assessment Id  Asset Id  Work Group Id\n",
              "count  4572.000000    4572.000000    4572.0    4572.000000\n",
              "mean    575.455599     403.274278      37.0    1034.539151\n",
              "std       3.772808       4.109155       0.0       1.507075\n",
              "min     572.000000     399.000000      37.0    1034.000000\n",
              "25%     572.000000     399.000000      37.0    1034.000000\n",
              "50%     576.000000     404.000000      37.0    1034.000000\n",
              "75%     577.000000     406.000000      37.0    1035.000000\n",
              "max     588.000000     415.000000      37.0    1061.000000"
            ],
            "text/html": [
              "\n",
              "  <div id=\"df-8a82682b-7dbd-4aa1-ab9b-6dbb53b0a262\">\n",
              "    <div class=\"colab-df-container\">\n",
              "      <div>\n",
              "<style scoped>\n",
              "    .dataframe tbody tr th:only-of-type {\n",
              "        vertical-align: middle;\n",
              "    }\n",
              "\n",
              "    .dataframe tbody tr th {\n",
              "        vertical-align: top;\n",
              "    }\n",
              "\n",
              "    .dataframe thead th {\n",
              "        text-align: right;\n",
              "    }\n",
              "</style>\n",
              "<table border=\"1\" class=\"dataframe\">\n",
              "  <thead>\n",
              "    <tr style=\"text-align: right;\">\n",
              "      <th></th>\n",
              "      <th>Area Id</th>\n",
              "      <th>Assessment Id</th>\n",
              "      <th>Asset Id</th>\n",
              "      <th>Work Group Id</th>\n",
              "    </tr>\n",
              "  </thead>\n",
              "  <tbody>\n",
              "    <tr>\n",
              "      <th>count</th>\n",
              "      <td>4572.000000</td>\n",
              "      <td>4572.000000</td>\n",
              "      <td>4572.0</td>\n",
              "      <td>4572.000000</td>\n",
              "    </tr>\n",
              "    <tr>\n",
              "      <th>mean</th>\n",
              "      <td>575.455599</td>\n",
              "      <td>403.274278</td>\n",
              "      <td>37.0</td>\n",
              "      <td>1034.539151</td>\n",
              "    </tr>\n",
              "    <tr>\n",
              "      <th>std</th>\n",
              "      <td>3.772808</td>\n",
              "      <td>4.109155</td>\n",
              "      <td>0.0</td>\n",
              "      <td>1.507075</td>\n",
              "    </tr>\n",
              "    <tr>\n",
              "      <th>min</th>\n",
              "      <td>572.000000</td>\n",
              "      <td>399.000000</td>\n",
              "      <td>37.0</td>\n",
              "      <td>1034.000000</td>\n",
              "    </tr>\n",
              "    <tr>\n",
              "      <th>25%</th>\n",
              "      <td>572.000000</td>\n",
              "      <td>399.000000</td>\n",
              "      <td>37.0</td>\n",
              "      <td>1034.000000</td>\n",
              "    </tr>\n",
              "    <tr>\n",
              "      <th>50%</th>\n",
              "      <td>576.000000</td>\n",
              "      <td>404.000000</td>\n",
              "      <td>37.0</td>\n",
              "      <td>1034.000000</td>\n",
              "    </tr>\n",
              "    <tr>\n",
              "      <th>75%</th>\n",
              "      <td>577.000000</td>\n",
              "      <td>406.000000</td>\n",
              "      <td>37.0</td>\n",
              "      <td>1035.000000</td>\n",
              "    </tr>\n",
              "    <tr>\n",
              "      <th>max</th>\n",
              "      <td>588.000000</td>\n",
              "      <td>415.000000</td>\n",
              "      <td>37.0</td>\n",
              "      <td>1061.000000</td>\n",
              "    </tr>\n",
              "  </tbody>\n",
              "</table>\n",
              "</div>\n",
              "      <button class=\"colab-df-convert\" onclick=\"convertToInteractive('df-8a82682b-7dbd-4aa1-ab9b-6dbb53b0a262')\"\n",
              "              title=\"Convert this dataframe to an interactive table.\"\n",
              "              style=\"display:none;\">\n",
              "        \n",
              "  <svg xmlns=\"http://www.w3.org/2000/svg\" height=\"24px\"viewBox=\"0 0 24 24\"\n",
              "       width=\"24px\">\n",
              "    <path d=\"M0 0h24v24H0V0z\" fill=\"none\"/>\n",
              "    <path d=\"M18.56 5.44l.94 2.06.94-2.06 2.06-.94-2.06-.94-.94-2.06-.94 2.06-2.06.94zm-11 1L8.5 8.5l.94-2.06 2.06-.94-2.06-.94L8.5 2.5l-.94 2.06-2.06.94zm10 10l.94 2.06.94-2.06 2.06-.94-2.06-.94-.94-2.06-.94 2.06-2.06.94z\"/><path d=\"M17.41 7.96l-1.37-1.37c-.4-.4-.92-.59-1.43-.59-.52 0-1.04.2-1.43.59L10.3 9.45l-7.72 7.72c-.78.78-.78 2.05 0 2.83L4 21.41c.39.39.9.59 1.41.59.51 0 1.02-.2 1.41-.59l7.78-7.78 2.81-2.81c.8-.78.8-2.07 0-2.86zM5.41 20L4 18.59l7.72-7.72 1.47 1.35L5.41 20z\"/>\n",
              "  </svg>\n",
              "      </button>\n",
              "      \n",
              "  <style>\n",
              "    .colab-df-container {\n",
              "      display:flex;\n",
              "      flex-wrap:wrap;\n",
              "      gap: 12px;\n",
              "    }\n",
              "\n",
              "    .colab-df-convert {\n",
              "      background-color: #E8F0FE;\n",
              "      border: none;\n",
              "      border-radius: 50%;\n",
              "      cursor: pointer;\n",
              "      display: none;\n",
              "      fill: #1967D2;\n",
              "      height: 32px;\n",
              "      padding: 0 0 0 0;\n",
              "      width: 32px;\n",
              "    }\n",
              "\n",
              "    .colab-df-convert:hover {\n",
              "      background-color: #E2EBFA;\n",
              "      box-shadow: 0px 1px 2px rgba(60, 64, 67, 0.3), 0px 1px 3px 1px rgba(60, 64, 67, 0.15);\n",
              "      fill: #174EA6;\n",
              "    }\n",
              "\n",
              "    [theme=dark] .colab-df-convert {\n",
              "      background-color: #3B4455;\n",
              "      fill: #D2E3FC;\n",
              "    }\n",
              "\n",
              "    [theme=dark] .colab-df-convert:hover {\n",
              "      background-color: #434B5C;\n",
              "      box-shadow: 0px 1px 3px 1px rgba(0, 0, 0, 0.15);\n",
              "      filter: drop-shadow(0px 1px 2px rgba(0, 0, 0, 0.3));\n",
              "      fill: #FFFFFF;\n",
              "    }\n",
              "  </style>\n",
              "\n",
              "      <script>\n",
              "        const buttonEl =\n",
              "          document.querySelector('#df-8a82682b-7dbd-4aa1-ab9b-6dbb53b0a262 button.colab-df-convert');\n",
              "        buttonEl.style.display =\n",
              "          google.colab.kernel.accessAllowed ? 'block' : 'none';\n",
              "\n",
              "        async function convertToInteractive(key) {\n",
              "          const element = document.querySelector('#df-8a82682b-7dbd-4aa1-ab9b-6dbb53b0a262');\n",
              "          const dataTable =\n",
              "            await google.colab.kernel.invokeFunction('convertToInteractive',\n",
              "                                                     [key], {});\n",
              "          if (!dataTable) return;\n",
              "\n",
              "          const docLinkHtml = 'Like what you see? Visit the ' +\n",
              "            '<a target=\"_blank\" href=https://colab.research.google.com/notebooks/data_table.ipynb>data table notebook</a>'\n",
              "            + ' to learn more about interactive tables.';\n",
              "          element.innerHTML = '';\n",
              "          dataTable['output_type'] = 'display_data';\n",
              "          await google.colab.output.renderOutput(dataTable, element);\n",
              "          const docLink = document.createElement('div');\n",
              "          docLink.innerHTML = docLinkHtml;\n",
              "          element.appendChild(docLink);\n",
              "        }\n",
              "      </script>\n",
              "    </div>\n",
              "  </div>\n",
              "  "
            ]
          },
          "metadata": {},
          "execution_count": 11
        }
      ]
    },
    {
      "cell_type": "code",
      "source": [
        "#information about dataset\n",
        "df.info()"
      ],
      "metadata": {
        "colab": {
          "base_uri": "https://localhost:8080/"
        },
        "id": "CoMQyv9c7-_h",
        "outputId": "c2237a35-2c65-4749-ea19-f40ba6251dc0"
      },
      "execution_count": 12,
      "outputs": [
        {
          "output_type": "stream",
          "name": "stdout",
          "text": [
            "<class 'pandas.core.frame.DataFrame'>\n",
            "RangeIndex: 4572 entries, 0 to 4571\n",
            "Data columns (total 12 columns):\n",
            " #   Column            Non-Null Count  Dtype         \n",
            "---  ------            --------------  -----         \n",
            " 0   Area Id           4572 non-null   int64         \n",
            " 1   Area              4572 non-null   object        \n",
            " 2   Assessment Week   4572 non-null   datetime64[ns]\n",
            " 3   Assessment Id     4572 non-null   int64         \n",
            " 4   Assessment        4572 non-null   object        \n",
            " 5   Asset Id          4572 non-null   int64         \n",
            " 6   Week Range        4572 non-null   object        \n",
            " 7   Questions         4572 non-null   object        \n",
            " 8   Risk or Positive  4572 non-null   object        \n",
            " 9   Risk Rating       4572 non-null   object        \n",
            " 10  Assessment Date   4572 non-null   datetime64[ns]\n",
            " 11  Work Group Id     4572 non-null   int64         \n",
            "dtypes: datetime64[ns](2), int64(4), object(6)\n",
            "memory usage: 428.8+ KB\n"
          ]
        }
      ]
    },
    {
      "cell_type": "markdown",
      "source": [
        "# **Reformating Feature**\n",
        " Label Encoding on \"Risk or Positive\" and \"Risk Rating\" column"
      ],
      "metadata": {
        "id": "0ZYiCQFp-i71"
      }
    },
    {
      "cell_type": "code",
      "source": [
        "df['Risk or Positive'].value_counts()"
      ],
      "metadata": {
        "colab": {
          "base_uri": "https://localhost:8080/"
        },
        "id": "RtCaYg8w-q8e",
        "outputId": "1c7154af-6894-46cb-98b8-97d192a4272f"
      },
      "execution_count": 13,
      "outputs": [
        {
          "output_type": "execute_result",
          "data": {
            "text/plain": [
              "Positive    4436\n",
              "At Risk      136\n",
              "Name: Risk or Positive, dtype: int64"
            ]
          },
          "metadata": {},
          "execution_count": 13
        }
      ]
    },
    {
      "cell_type": "code",
      "source": [
        "df['Risk Rating'].value_counts()"
      ],
      "metadata": {
        "colab": {
          "base_uri": "https://localhost:8080/"
        },
        "id": "tiee3Ddn-KSq",
        "outputId": "9e2e0ebc-91be-4fd9-d31f-d7abb890ff6f"
      },
      "execution_count": 14,
      "outputs": [
        {
          "output_type": "execute_result",
          "data": {
            "text/plain": [
              "Low       2231\n",
              "Medium    2124\n",
              "High       217\n",
              "Name: Risk Rating, dtype: int64"
            ]
          },
          "metadata": {},
          "execution_count": 14
        }
      ]
    },
    {
      "cell_type": "code",
      "source": [
        " # label_encoder object knows how to understand word labels.\n",
        "label_encoder = preprocessing.LabelEncoder()\n",
        " \n",
        "# Encode labels in column 'Risk or Positive'.\n",
        "df['Risk or Positive']= label_encoder.fit_transform(df['Risk or Positive'])\n",
        "\n",
        "# Encode labels in column 'Risk Rating'.\n",
        "df.loc[df[\"Risk Rating\"] == \"Low\", \"Risk Rating\"] = 1\n",
        "df.loc[df[\"Risk Rating\"] == \"Medium\", \"Risk Rating\"] = 2\n",
        "df.loc[df[\"Risk Rating\"] == \"High\", \"Risk Rating\"] = 3\n"
      ],
      "metadata": {
        "id": "-E5w68_K_Utp"
      },
      "execution_count": 15,
      "outputs": []
    },
    {
      "cell_type": "markdown",
      "source": [
        "We encoded Risk = 0 and Positive = 1 in 'Risk or Positive' column.\n",
        "\n",
        "We encoded Low = 1, Medium=2 and High = 3 in 'Risk Rating' column."
      ],
      "metadata": {
        "id": "DW44z8HtEMCe"
      }
    },
    {
      "cell_type": "code",
      "source": [
        "df.head(30)"
      ],
      "metadata": {
        "colab": {
          "base_uri": "https://localhost:8080/",
          "height": 1000
        },
        "id": "PlwGxApRACDh",
        "outputId": "325d9407-dc68-4c29-c8c9-3584dc0eb1e4"
      },
      "execution_count": 21,
      "outputs": [
        {
          "output_type": "execute_result",
          "data": {
            "text/plain": [
              "    Area Id                     Area Assessment Week  Assessment Id  \\\n",
              "0       572  1000 - Process Train #1      2021-01-03            404   \n",
              "1       572  1000 - Process Train #1      2021-01-03            408   \n",
              "2       572  1000 - Process Train #1      2021-01-03            408   \n",
              "3       572  1000 - Process Train #1      2021-01-03            408   \n",
              "4       572  1000 - Process Train #1      2021-01-03            408   \n",
              "5       572  1000 - Process Train #1      2021-01-03            408   \n",
              "6       572  1000 - Process Train #1      2021-01-03            408   \n",
              "7       572  1000 - Process Train #1      2021-01-03            399   \n",
              "8       572  1000 - Process Train #1      2021-01-03            399   \n",
              "9       572  1000 - Process Train #1      2021-01-03            399   \n",
              "10      572  1000 - Process Train #1      2021-01-03            399   \n",
              "11      572  1000 - Process Train #1      2021-01-03            399   \n",
              "12      572  1000 - Process Train #1      2021-01-03            399   \n",
              "13      572  1000 - Process Train #1      2021-01-03            399   \n",
              "14      572  1000 - Process Train #1      2021-01-03            399   \n",
              "15      572  1000 - Process Train #1      2021-01-10            404   \n",
              "16      572  1000 - Process Train #1      2021-01-10            404   \n",
              "17      572  1000 - Process Train #1      2021-01-10            404   \n",
              "18      576   5000 - Offsite General      2021-01-10            404   \n",
              "19      576   5000 - Offsite General      2021-01-10            404   \n",
              "20      576   5000 - Offsite General      2021-01-10            404   \n",
              "21      576   5000 - Offsite General      2021-01-10            404   \n",
              "22      576   5000 - Offsite General      2021-01-10            404   \n",
              "23      572  1000 - Process Train #1      2021-01-10            404   \n",
              "24      576   5000 - Offsite General      2021-01-10            399   \n",
              "25      572  1000 - Process Train #1      2021-01-10            401   \n",
              "26      576   5000 - Offsite General      2021-01-10            401   \n",
              "27      576   5000 - Offsite General      2021-01-10            401   \n",
              "28      572  1000 - Process Train #1      2021-01-10            410   \n",
              "29      576   5000 - Offsite General      2021-01-10            401   \n",
              "\n",
              "                  Assessment  Asset Id               Week Range  \\\n",
              "0             General Safety        37    January 3 - January 9   \n",
              "1         Work Authorization        37    January 3 - January 9   \n",
              "2         Work Authorization        37    January 3 - January 9   \n",
              "3         Work Authorization        37    January 3 - January 9   \n",
              "4         Work Authorization        37    January 3 - January 9   \n",
              "5         Work Authorization        37    January 3 - January 9   \n",
              "6         Work Authorization        37    January 3 - January 9   \n",
              "7                        BBS        37    January 3 - January 9   \n",
              "8                        BBS        37    January 3 - January 9   \n",
              "9                        BBS        37    January 3 - January 9   \n",
              "10                       BBS        37    January 3 - January 9   \n",
              "11                       BBS        37    January 3 - January 9   \n",
              "12                       BBS        37    January 3 - January 9   \n",
              "13                       BBS        37    January 3 - January 9   \n",
              "14                       BBS        37    January 3 - January 9   \n",
              "15            General Safety        37  January 10 - January 16   \n",
              "16            General Safety        37  January 10 - January 16   \n",
              "17            General Safety        37  January 10 - January 16   \n",
              "18            General Safety        37  January 10 - January 16   \n",
              "19            General Safety        37  January 10 - January 16   \n",
              "20            General Safety        37  January 10 - January 16   \n",
              "21            General Safety        37  January 10 - January 16   \n",
              "22            General Safety        37  January 10 - January 16   \n",
              "23            General Safety        37  January 10 - January 16   \n",
              "24                       BBS        37  January 10 - January 16   \n",
              "25  Driving & Transportation        37  January 10 - January 16   \n",
              "26  Driving & Transportation        37  January 10 - January 16   \n",
              "27  Driving & Transportation        37  January 10 - January 16   \n",
              "28        Working at Heights        37  January 10 - January 16   \n",
              "29  Driving & Transportation        37  January 10 - January 16   \n",
              "\n",
              "                                            Questions  Risk or Positive  \\\n",
              "0                 Is barrier tape or rope being used?                 0   \n",
              "1   Are all permit or work authorization documents...                 1   \n",
              "2   Are worker's qualified for job they are author...                 1   \n",
              "3            Is the permit available at the worksite?                 1   \n",
              "4   Is the work authorization documentation / perm...                 1   \n",
              "5   Is the work location consistent with the locat...                 1   \n",
              "6   Were the correct permit (s) issued for the wor...                 1   \n",
              "7   Did the presenter allow workers to bring up an...                 1   \n",
              "8   Did the presenter attempt to get worker involv...                 1   \n",
              "9   Did the presenter try to related the tool box ...                 1   \n",
              "10  Did the tool box talk take place in an area th...                 1   \n",
              "11  Was the majority of the work crew present for ...                 1   \n",
              "12  Was the presenter prepared for the tool box ta...                 1   \n",
              "13  Was the tool box talk completed in a timely ma...                 1   \n",
              "14  Was the tool box talk presented by the foreman...                 1   \n",
              "15  Are the appropriate gloves being worn for the ...                 0   \n",
              "16  Are tools and PPE stored outside of walkways (...                 0   \n",
              "17  Is the ground / surfaces / structures free of ...                 0   \n",
              "18  Are workers wearing the standard site approved...                 0   \n",
              "19  Are workers wearing the standard site approved...                 0   \n",
              "20  Are workers wearing the standard site approved...                 0   \n",
              "21  Are workers wearing the standard site approved...                 0   \n",
              "22  Are workers wearing the standard site approved...                 0   \n",
              "23  Is the ground / surfaces / structures free of ...                 0   \n",
              "24  Was the tool box talk completed in a timely ma...                 0   \n",
              "25  Is the driver focused on the task (not using a...                 0   \n",
              "26  Is the driver following site road rules (speed...                 0   \n",
              "27  Is the driver following site road rules (speed...                 0   \n",
              "28    Are the workers following the tag requirements?                 0   \n",
              "29  Is the driver following site road rules (speed...                 0   \n",
              "\n",
              "   Risk Rating Assessment Date  Work Group Id  \n",
              "0            2      2021-01-07           1035  \n",
              "1            2      2021-01-05           1034  \n",
              "2            2      2021-01-05           1034  \n",
              "3            2      2021-01-05           1034  \n",
              "4            2      2021-01-05           1034  \n",
              "5            2      2021-01-05           1034  \n",
              "6            2      2021-01-05           1034  \n",
              "7            1      2021-01-05           1035  \n",
              "8            1      2021-01-05           1035  \n",
              "9            1      2021-01-05           1035  \n",
              "10           1      2021-01-05           1035  \n",
              "11           1      2021-01-05           1035  \n",
              "12           1      2021-01-05           1035  \n",
              "13           1      2021-01-05           1035  \n",
              "14           1      2021-01-05           1035  \n",
              "15           1      2021-01-15           1034  \n",
              "16           1      2021-01-11           1034  \n",
              "17           1      2021-01-11           1034  \n",
              "18           1      2021-01-13           1034  \n",
              "19           1      2021-01-12           1034  \n",
              "20           1      2021-01-14           1034  \n",
              "21           1      2021-01-13           1034  \n",
              "22           1      2021-01-13           1034  \n",
              "23           1      2021-01-14           1034  \n",
              "24           1      2021-01-13           1034  \n",
              "25           2      2021-01-12           1035  \n",
              "26           2      2021-01-11           1034  \n",
              "27           2      2021-01-12           1034  \n",
              "28           2      2021-01-11           1034  \n",
              "29           2      2021-01-13           1034  "
            ],
            "text/html": [
              "\n",
              "  <div id=\"df-2dff4cfc-e45e-446a-ba32-1caa9725cf76\">\n",
              "    <div class=\"colab-df-container\">\n",
              "      <div>\n",
              "<style scoped>\n",
              "    .dataframe tbody tr th:only-of-type {\n",
              "        vertical-align: middle;\n",
              "    }\n",
              "\n",
              "    .dataframe tbody tr th {\n",
              "        vertical-align: top;\n",
              "    }\n",
              "\n",
              "    .dataframe thead th {\n",
              "        text-align: right;\n",
              "    }\n",
              "</style>\n",
              "<table border=\"1\" class=\"dataframe\">\n",
              "  <thead>\n",
              "    <tr style=\"text-align: right;\">\n",
              "      <th></th>\n",
              "      <th>Area Id</th>\n",
              "      <th>Area</th>\n",
              "      <th>Assessment Week</th>\n",
              "      <th>Assessment Id</th>\n",
              "      <th>Assessment</th>\n",
              "      <th>Asset Id</th>\n",
              "      <th>Week Range</th>\n",
              "      <th>Questions</th>\n",
              "      <th>Risk or Positive</th>\n",
              "      <th>Risk Rating</th>\n",
              "      <th>Assessment Date</th>\n",
              "      <th>Work Group Id</th>\n",
              "    </tr>\n",
              "  </thead>\n",
              "  <tbody>\n",
              "    <tr>\n",
              "      <th>0</th>\n",
              "      <td>572</td>\n",
              "      <td>1000 - Process Train #1</td>\n",
              "      <td>2021-01-03</td>\n",
              "      <td>404</td>\n",
              "      <td>General Safety</td>\n",
              "      <td>37</td>\n",
              "      <td>January 3 - January 9</td>\n",
              "      <td>Is barrier tape or rope being used?</td>\n",
              "      <td>0</td>\n",
              "      <td>2</td>\n",
              "      <td>2021-01-07</td>\n",
              "      <td>1035</td>\n",
              "    </tr>\n",
              "    <tr>\n",
              "      <th>1</th>\n",
              "      <td>572</td>\n",
              "      <td>1000 - Process Train #1</td>\n",
              "      <td>2021-01-03</td>\n",
              "      <td>408</td>\n",
              "      <td>Work Authorization</td>\n",
              "      <td>37</td>\n",
              "      <td>January 3 - January 9</td>\n",
              "      <td>Are all permit or work authorization documents...</td>\n",
              "      <td>1</td>\n",
              "      <td>2</td>\n",
              "      <td>2021-01-05</td>\n",
              "      <td>1034</td>\n",
              "    </tr>\n",
              "    <tr>\n",
              "      <th>2</th>\n",
              "      <td>572</td>\n",
              "      <td>1000 - Process Train #1</td>\n",
              "      <td>2021-01-03</td>\n",
              "      <td>408</td>\n",
              "      <td>Work Authorization</td>\n",
              "      <td>37</td>\n",
              "      <td>January 3 - January 9</td>\n",
              "      <td>Are worker's qualified for job they are author...</td>\n",
              "      <td>1</td>\n",
              "      <td>2</td>\n",
              "      <td>2021-01-05</td>\n",
              "      <td>1034</td>\n",
              "    </tr>\n",
              "    <tr>\n",
              "      <th>3</th>\n",
              "      <td>572</td>\n",
              "      <td>1000 - Process Train #1</td>\n",
              "      <td>2021-01-03</td>\n",
              "      <td>408</td>\n",
              "      <td>Work Authorization</td>\n",
              "      <td>37</td>\n",
              "      <td>January 3 - January 9</td>\n",
              "      <td>Is the permit available at the worksite?</td>\n",
              "      <td>1</td>\n",
              "      <td>2</td>\n",
              "      <td>2021-01-05</td>\n",
              "      <td>1034</td>\n",
              "    </tr>\n",
              "    <tr>\n",
              "      <th>4</th>\n",
              "      <td>572</td>\n",
              "      <td>1000 - Process Train #1</td>\n",
              "      <td>2021-01-03</td>\n",
              "      <td>408</td>\n",
              "      <td>Work Authorization</td>\n",
              "      <td>37</td>\n",
              "      <td>January 3 - January 9</td>\n",
              "      <td>Is the work authorization documentation / perm...</td>\n",
              "      <td>1</td>\n",
              "      <td>2</td>\n",
              "      <td>2021-01-05</td>\n",
              "      <td>1034</td>\n",
              "    </tr>\n",
              "    <tr>\n",
              "      <th>5</th>\n",
              "      <td>572</td>\n",
              "      <td>1000 - Process Train #1</td>\n",
              "      <td>2021-01-03</td>\n",
              "      <td>408</td>\n",
              "      <td>Work Authorization</td>\n",
              "      <td>37</td>\n",
              "      <td>January 3 - January 9</td>\n",
              "      <td>Is the work location consistent with the locat...</td>\n",
              "      <td>1</td>\n",
              "      <td>2</td>\n",
              "      <td>2021-01-05</td>\n",
              "      <td>1034</td>\n",
              "    </tr>\n",
              "    <tr>\n",
              "      <th>6</th>\n",
              "      <td>572</td>\n",
              "      <td>1000 - Process Train #1</td>\n",
              "      <td>2021-01-03</td>\n",
              "      <td>408</td>\n",
              "      <td>Work Authorization</td>\n",
              "      <td>37</td>\n",
              "      <td>January 3 - January 9</td>\n",
              "      <td>Were the correct permit (s) issued for the wor...</td>\n",
              "      <td>1</td>\n",
              "      <td>2</td>\n",
              "      <td>2021-01-05</td>\n",
              "      <td>1034</td>\n",
              "    </tr>\n",
              "    <tr>\n",
              "      <th>7</th>\n",
              "      <td>572</td>\n",
              "      <td>1000 - Process Train #1</td>\n",
              "      <td>2021-01-03</td>\n",
              "      <td>399</td>\n",
              "      <td>BBS</td>\n",
              "      <td>37</td>\n",
              "      <td>January 3 - January 9</td>\n",
              "      <td>Did the presenter allow workers to bring up an...</td>\n",
              "      <td>1</td>\n",
              "      <td>1</td>\n",
              "      <td>2021-01-05</td>\n",
              "      <td>1035</td>\n",
              "    </tr>\n",
              "    <tr>\n",
              "      <th>8</th>\n",
              "      <td>572</td>\n",
              "      <td>1000 - Process Train #1</td>\n",
              "      <td>2021-01-03</td>\n",
              "      <td>399</td>\n",
              "      <td>BBS</td>\n",
              "      <td>37</td>\n",
              "      <td>January 3 - January 9</td>\n",
              "      <td>Did the presenter attempt to get worker involv...</td>\n",
              "      <td>1</td>\n",
              "      <td>1</td>\n",
              "      <td>2021-01-05</td>\n",
              "      <td>1035</td>\n",
              "    </tr>\n",
              "    <tr>\n",
              "      <th>9</th>\n",
              "      <td>572</td>\n",
              "      <td>1000 - Process Train #1</td>\n",
              "      <td>2021-01-03</td>\n",
              "      <td>399</td>\n",
              "      <td>BBS</td>\n",
              "      <td>37</td>\n",
              "      <td>January 3 - January 9</td>\n",
              "      <td>Did the presenter try to related the tool box ...</td>\n",
              "      <td>1</td>\n",
              "      <td>1</td>\n",
              "      <td>2021-01-05</td>\n",
              "      <td>1035</td>\n",
              "    </tr>\n",
              "    <tr>\n",
              "      <th>10</th>\n",
              "      <td>572</td>\n",
              "      <td>1000 - Process Train #1</td>\n",
              "      <td>2021-01-03</td>\n",
              "      <td>399</td>\n",
              "      <td>BBS</td>\n",
              "      <td>37</td>\n",
              "      <td>January 3 - January 9</td>\n",
              "      <td>Did the tool box talk take place in an area th...</td>\n",
              "      <td>1</td>\n",
              "      <td>1</td>\n",
              "      <td>2021-01-05</td>\n",
              "      <td>1035</td>\n",
              "    </tr>\n",
              "    <tr>\n",
              "      <th>11</th>\n",
              "      <td>572</td>\n",
              "      <td>1000 - Process Train #1</td>\n",
              "      <td>2021-01-03</td>\n",
              "      <td>399</td>\n",
              "      <td>BBS</td>\n",
              "      <td>37</td>\n",
              "      <td>January 3 - January 9</td>\n",
              "      <td>Was the majority of the work crew present for ...</td>\n",
              "      <td>1</td>\n",
              "      <td>1</td>\n",
              "      <td>2021-01-05</td>\n",
              "      <td>1035</td>\n",
              "    </tr>\n",
              "    <tr>\n",
              "      <th>12</th>\n",
              "      <td>572</td>\n",
              "      <td>1000 - Process Train #1</td>\n",
              "      <td>2021-01-03</td>\n",
              "      <td>399</td>\n",
              "      <td>BBS</td>\n",
              "      <td>37</td>\n",
              "      <td>January 3 - January 9</td>\n",
              "      <td>Was the presenter prepared for the tool box ta...</td>\n",
              "      <td>1</td>\n",
              "      <td>1</td>\n",
              "      <td>2021-01-05</td>\n",
              "      <td>1035</td>\n",
              "    </tr>\n",
              "    <tr>\n",
              "      <th>13</th>\n",
              "      <td>572</td>\n",
              "      <td>1000 - Process Train #1</td>\n",
              "      <td>2021-01-03</td>\n",
              "      <td>399</td>\n",
              "      <td>BBS</td>\n",
              "      <td>37</td>\n",
              "      <td>January 3 - January 9</td>\n",
              "      <td>Was the tool box talk completed in a timely ma...</td>\n",
              "      <td>1</td>\n",
              "      <td>1</td>\n",
              "      <td>2021-01-05</td>\n",
              "      <td>1035</td>\n",
              "    </tr>\n",
              "    <tr>\n",
              "      <th>14</th>\n",
              "      <td>572</td>\n",
              "      <td>1000 - Process Train #1</td>\n",
              "      <td>2021-01-03</td>\n",
              "      <td>399</td>\n",
              "      <td>BBS</td>\n",
              "      <td>37</td>\n",
              "      <td>January 3 - January 9</td>\n",
              "      <td>Was the tool box talk presented by the foreman...</td>\n",
              "      <td>1</td>\n",
              "      <td>1</td>\n",
              "      <td>2021-01-05</td>\n",
              "      <td>1035</td>\n",
              "    </tr>\n",
              "    <tr>\n",
              "      <th>15</th>\n",
              "      <td>572</td>\n",
              "      <td>1000 - Process Train #1</td>\n",
              "      <td>2021-01-10</td>\n",
              "      <td>404</td>\n",
              "      <td>General Safety</td>\n",
              "      <td>37</td>\n",
              "      <td>January 10 - January 16</td>\n",
              "      <td>Are the appropriate gloves being worn for the ...</td>\n",
              "      <td>0</td>\n",
              "      <td>1</td>\n",
              "      <td>2021-01-15</td>\n",
              "      <td>1034</td>\n",
              "    </tr>\n",
              "    <tr>\n",
              "      <th>16</th>\n",
              "      <td>572</td>\n",
              "      <td>1000 - Process Train #1</td>\n",
              "      <td>2021-01-10</td>\n",
              "      <td>404</td>\n",
              "      <td>General Safety</td>\n",
              "      <td>37</td>\n",
              "      <td>January 10 - January 16</td>\n",
              "      <td>Are tools and PPE stored outside of walkways (...</td>\n",
              "      <td>0</td>\n",
              "      <td>1</td>\n",
              "      <td>2021-01-11</td>\n",
              "      <td>1034</td>\n",
              "    </tr>\n",
              "    <tr>\n",
              "      <th>17</th>\n",
              "      <td>572</td>\n",
              "      <td>1000 - Process Train #1</td>\n",
              "      <td>2021-01-10</td>\n",
              "      <td>404</td>\n",
              "      <td>General Safety</td>\n",
              "      <td>37</td>\n",
              "      <td>January 10 - January 16</td>\n",
              "      <td>Is the ground / surfaces / structures free of ...</td>\n",
              "      <td>0</td>\n",
              "      <td>1</td>\n",
              "      <td>2021-01-11</td>\n",
              "      <td>1034</td>\n",
              "    </tr>\n",
              "    <tr>\n",
              "      <th>18</th>\n",
              "      <td>576</td>\n",
              "      <td>5000 - Offsite General</td>\n",
              "      <td>2021-01-10</td>\n",
              "      <td>404</td>\n",
              "      <td>General Safety</td>\n",
              "      <td>37</td>\n",
              "      <td>January 10 - January 16</td>\n",
              "      <td>Are workers wearing the standard site approved...</td>\n",
              "      <td>0</td>\n",
              "      <td>1</td>\n",
              "      <td>2021-01-13</td>\n",
              "      <td>1034</td>\n",
              "    </tr>\n",
              "    <tr>\n",
              "      <th>19</th>\n",
              "      <td>576</td>\n",
              "      <td>5000 - Offsite General</td>\n",
              "      <td>2021-01-10</td>\n",
              "      <td>404</td>\n",
              "      <td>General Safety</td>\n",
              "      <td>37</td>\n",
              "      <td>January 10 - January 16</td>\n",
              "      <td>Are workers wearing the standard site approved...</td>\n",
              "      <td>0</td>\n",
              "      <td>1</td>\n",
              "      <td>2021-01-12</td>\n",
              "      <td>1034</td>\n",
              "    </tr>\n",
              "    <tr>\n",
              "      <th>20</th>\n",
              "      <td>576</td>\n",
              "      <td>5000 - Offsite General</td>\n",
              "      <td>2021-01-10</td>\n",
              "      <td>404</td>\n",
              "      <td>General Safety</td>\n",
              "      <td>37</td>\n",
              "      <td>January 10 - January 16</td>\n",
              "      <td>Are workers wearing the standard site approved...</td>\n",
              "      <td>0</td>\n",
              "      <td>1</td>\n",
              "      <td>2021-01-14</td>\n",
              "      <td>1034</td>\n",
              "    </tr>\n",
              "    <tr>\n",
              "      <th>21</th>\n",
              "      <td>576</td>\n",
              "      <td>5000 - Offsite General</td>\n",
              "      <td>2021-01-10</td>\n",
              "      <td>404</td>\n",
              "      <td>General Safety</td>\n",
              "      <td>37</td>\n",
              "      <td>January 10 - January 16</td>\n",
              "      <td>Are workers wearing the standard site approved...</td>\n",
              "      <td>0</td>\n",
              "      <td>1</td>\n",
              "      <td>2021-01-13</td>\n",
              "      <td>1034</td>\n",
              "    </tr>\n",
              "    <tr>\n",
              "      <th>22</th>\n",
              "      <td>576</td>\n",
              "      <td>5000 - Offsite General</td>\n",
              "      <td>2021-01-10</td>\n",
              "      <td>404</td>\n",
              "      <td>General Safety</td>\n",
              "      <td>37</td>\n",
              "      <td>January 10 - January 16</td>\n",
              "      <td>Are workers wearing the standard site approved...</td>\n",
              "      <td>0</td>\n",
              "      <td>1</td>\n",
              "      <td>2021-01-13</td>\n",
              "      <td>1034</td>\n",
              "    </tr>\n",
              "    <tr>\n",
              "      <th>23</th>\n",
              "      <td>572</td>\n",
              "      <td>1000 - Process Train #1</td>\n",
              "      <td>2021-01-10</td>\n",
              "      <td>404</td>\n",
              "      <td>General Safety</td>\n",
              "      <td>37</td>\n",
              "      <td>January 10 - January 16</td>\n",
              "      <td>Is the ground / surfaces / structures free of ...</td>\n",
              "      <td>0</td>\n",
              "      <td>1</td>\n",
              "      <td>2021-01-14</td>\n",
              "      <td>1034</td>\n",
              "    </tr>\n",
              "    <tr>\n",
              "      <th>24</th>\n",
              "      <td>576</td>\n",
              "      <td>5000 - Offsite General</td>\n",
              "      <td>2021-01-10</td>\n",
              "      <td>399</td>\n",
              "      <td>BBS</td>\n",
              "      <td>37</td>\n",
              "      <td>January 10 - January 16</td>\n",
              "      <td>Was the tool box talk completed in a timely ma...</td>\n",
              "      <td>0</td>\n",
              "      <td>1</td>\n",
              "      <td>2021-01-13</td>\n",
              "      <td>1034</td>\n",
              "    </tr>\n",
              "    <tr>\n",
              "      <th>25</th>\n",
              "      <td>572</td>\n",
              "      <td>1000 - Process Train #1</td>\n",
              "      <td>2021-01-10</td>\n",
              "      <td>401</td>\n",
              "      <td>Driving &amp; Transportation</td>\n",
              "      <td>37</td>\n",
              "      <td>January 10 - January 16</td>\n",
              "      <td>Is the driver focused on the task (not using a...</td>\n",
              "      <td>0</td>\n",
              "      <td>2</td>\n",
              "      <td>2021-01-12</td>\n",
              "      <td>1035</td>\n",
              "    </tr>\n",
              "    <tr>\n",
              "      <th>26</th>\n",
              "      <td>576</td>\n",
              "      <td>5000 - Offsite General</td>\n",
              "      <td>2021-01-10</td>\n",
              "      <td>401</td>\n",
              "      <td>Driving &amp; Transportation</td>\n",
              "      <td>37</td>\n",
              "      <td>January 10 - January 16</td>\n",
              "      <td>Is the driver following site road rules (speed...</td>\n",
              "      <td>0</td>\n",
              "      <td>2</td>\n",
              "      <td>2021-01-11</td>\n",
              "      <td>1034</td>\n",
              "    </tr>\n",
              "    <tr>\n",
              "      <th>27</th>\n",
              "      <td>576</td>\n",
              "      <td>5000 - Offsite General</td>\n",
              "      <td>2021-01-10</td>\n",
              "      <td>401</td>\n",
              "      <td>Driving &amp; Transportation</td>\n",
              "      <td>37</td>\n",
              "      <td>January 10 - January 16</td>\n",
              "      <td>Is the driver following site road rules (speed...</td>\n",
              "      <td>0</td>\n",
              "      <td>2</td>\n",
              "      <td>2021-01-12</td>\n",
              "      <td>1034</td>\n",
              "    </tr>\n",
              "    <tr>\n",
              "      <th>28</th>\n",
              "      <td>572</td>\n",
              "      <td>1000 - Process Train #1</td>\n",
              "      <td>2021-01-10</td>\n",
              "      <td>410</td>\n",
              "      <td>Working at Heights</td>\n",
              "      <td>37</td>\n",
              "      <td>January 10 - January 16</td>\n",
              "      <td>Are the workers following the tag requirements?</td>\n",
              "      <td>0</td>\n",
              "      <td>2</td>\n",
              "      <td>2021-01-11</td>\n",
              "      <td>1034</td>\n",
              "    </tr>\n",
              "    <tr>\n",
              "      <th>29</th>\n",
              "      <td>576</td>\n",
              "      <td>5000 - Offsite General</td>\n",
              "      <td>2021-01-10</td>\n",
              "      <td>401</td>\n",
              "      <td>Driving &amp; Transportation</td>\n",
              "      <td>37</td>\n",
              "      <td>January 10 - January 16</td>\n",
              "      <td>Is the driver following site road rules (speed...</td>\n",
              "      <td>0</td>\n",
              "      <td>2</td>\n",
              "      <td>2021-01-13</td>\n",
              "      <td>1034</td>\n",
              "    </tr>\n",
              "  </tbody>\n",
              "</table>\n",
              "</div>\n",
              "      <button class=\"colab-df-convert\" onclick=\"convertToInteractive('df-2dff4cfc-e45e-446a-ba32-1caa9725cf76')\"\n",
              "              title=\"Convert this dataframe to an interactive table.\"\n",
              "              style=\"display:none;\">\n",
              "        \n",
              "  <svg xmlns=\"http://www.w3.org/2000/svg\" height=\"24px\"viewBox=\"0 0 24 24\"\n",
              "       width=\"24px\">\n",
              "    <path d=\"M0 0h24v24H0V0z\" fill=\"none\"/>\n",
              "    <path d=\"M18.56 5.44l.94 2.06.94-2.06 2.06-.94-2.06-.94-.94-2.06-.94 2.06-2.06.94zm-11 1L8.5 8.5l.94-2.06 2.06-.94-2.06-.94L8.5 2.5l-.94 2.06-2.06.94zm10 10l.94 2.06.94-2.06 2.06-.94-2.06-.94-.94-2.06-.94 2.06-2.06.94z\"/><path d=\"M17.41 7.96l-1.37-1.37c-.4-.4-.92-.59-1.43-.59-.52 0-1.04.2-1.43.59L10.3 9.45l-7.72 7.72c-.78.78-.78 2.05 0 2.83L4 21.41c.39.39.9.59 1.41.59.51 0 1.02-.2 1.41-.59l7.78-7.78 2.81-2.81c.8-.78.8-2.07 0-2.86zM5.41 20L4 18.59l7.72-7.72 1.47 1.35L5.41 20z\"/>\n",
              "  </svg>\n",
              "      </button>\n",
              "      \n",
              "  <style>\n",
              "    .colab-df-container {\n",
              "      display:flex;\n",
              "      flex-wrap:wrap;\n",
              "      gap: 12px;\n",
              "    }\n",
              "\n",
              "    .colab-df-convert {\n",
              "      background-color: #E8F0FE;\n",
              "      border: none;\n",
              "      border-radius: 50%;\n",
              "      cursor: pointer;\n",
              "      display: none;\n",
              "      fill: #1967D2;\n",
              "      height: 32px;\n",
              "      padding: 0 0 0 0;\n",
              "      width: 32px;\n",
              "    }\n",
              "\n",
              "    .colab-df-convert:hover {\n",
              "      background-color: #E2EBFA;\n",
              "      box-shadow: 0px 1px 2px rgba(60, 64, 67, 0.3), 0px 1px 3px 1px rgba(60, 64, 67, 0.15);\n",
              "      fill: #174EA6;\n",
              "    }\n",
              "\n",
              "    [theme=dark] .colab-df-convert {\n",
              "      background-color: #3B4455;\n",
              "      fill: #D2E3FC;\n",
              "    }\n",
              "\n",
              "    [theme=dark] .colab-df-convert:hover {\n",
              "      background-color: #434B5C;\n",
              "      box-shadow: 0px 1px 3px 1px rgba(0, 0, 0, 0.15);\n",
              "      filter: drop-shadow(0px 1px 2px rgba(0, 0, 0, 0.3));\n",
              "      fill: #FFFFFF;\n",
              "    }\n",
              "  </style>\n",
              "\n",
              "      <script>\n",
              "        const buttonEl =\n",
              "          document.querySelector('#df-2dff4cfc-e45e-446a-ba32-1caa9725cf76 button.colab-df-convert');\n",
              "        buttonEl.style.display =\n",
              "          google.colab.kernel.accessAllowed ? 'block' : 'none';\n",
              "\n",
              "        async function convertToInteractive(key) {\n",
              "          const element = document.querySelector('#df-2dff4cfc-e45e-446a-ba32-1caa9725cf76');\n",
              "          const dataTable =\n",
              "            await google.colab.kernel.invokeFunction('convertToInteractive',\n",
              "                                                     [key], {});\n",
              "          if (!dataTable) return;\n",
              "\n",
              "          const docLinkHtml = 'Like what you see? Visit the ' +\n",
              "            '<a target=\"_blank\" href=https://colab.research.google.com/notebooks/data_table.ipynb>data table notebook</a>'\n",
              "            + ' to learn more about interactive tables.';\n",
              "          element.innerHTML = '';\n",
              "          dataTable['output_type'] = 'display_data';\n",
              "          await google.colab.output.renderOutput(dataTable, element);\n",
              "          const docLink = document.createElement('div');\n",
              "          docLink.innerHTML = docLinkHtml;\n",
              "          element.appendChild(docLink);\n",
              "        }\n",
              "      </script>\n",
              "    </div>\n",
              "  </div>\n",
              "  "
            ]
          },
          "metadata": {},
          "execution_count": 21
        }
      ]
    },
    {
      "cell_type": "code",
      "source": [
        "df['Risk Rating'].value_counts()"
      ],
      "metadata": {
        "colab": {
          "base_uri": "https://localhost:8080/"
        },
        "id": "7boFu1L9AEA0",
        "outputId": "2ecb9a89-0d82-4dbc-9ac6-3d4505abb5b0"
      },
      "execution_count": 17,
      "outputs": [
        {
          "output_type": "execute_result",
          "data": {
            "text/plain": [
              "1    2231\n",
              "2    2124\n",
              "3     217\n",
              "Name: Risk Rating, dtype: int64"
            ]
          },
          "metadata": {},
          "execution_count": 17
        }
      ]
    },
    {
      "cell_type": "code",
      "source": [
        "df['Week Range'].value_counts()"
      ],
      "metadata": {
        "colab": {
          "base_uri": "https://localhost:8080/"
        },
        "id": "mIum3MZVAY9p",
        "outputId": "91592bae-4403-4902-aa8d-9b555b2928cf"
      },
      "execution_count": 18,
      "outputs": [
        {
          "output_type": "execute_result",
          "data": {
            "text/plain": [
              "February 28 - March 6        1334\n",
              "January 10 - January 16       699\n",
              "February 21 - February 27     696\n",
              "February 7 - February 13      613\n",
              "January 31 - February 6       433\n",
              "January 24 - January 30       377\n",
              "January 17 - January 23       365\n",
              "February 14 - February 20      40\n",
              "January 3 - January 9          15\n",
              "Name: Week Range, dtype: int64"
            ]
          },
          "metadata": {},
          "execution_count": 18
        }
      ]
    },
    {
      "cell_type": "code",
      "source": [
        "df['Work Group Id'].value_counts()"
      ],
      "metadata": {
        "colab": {
          "base_uri": "https://localhost:8080/"
        },
        "id": "f0cuYQatEEAJ",
        "outputId": "0c87f2fd-f3c2-400f-9225-111a2466a3dc"
      },
      "execution_count": 19,
      "outputs": [
        {
          "output_type": "execute_result",
          "data": {
            "text/plain": [
              "1034    3318\n",
              "1035     779\n",
              "1038     258\n",
              "1036     198\n",
              "1037       8\n",
              "1061       8\n",
              "1040       3\n",
              "Name: Work Group Id, dtype: int64"
            ]
          },
          "metadata": {},
          "execution_count": 19
        }
      ]
    },
    {
      "cell_type": "code",
      "source": [
        "df.nunique()"
      ],
      "metadata": {
        "colab": {
          "base_uri": "https://localhost:8080/"
        },
        "id": "9Z0zLFx2IYob",
        "outputId": "65b7598c-7c29-463d-f798-f44457d6fe86"
      },
      "execution_count": 22,
      "outputs": [
        {
          "output_type": "execute_result",
          "data": {
            "text/plain": [
              "Area Id              11\n",
              "Area                 11\n",
              "Assessment Week       9\n",
              "Assessment Id        12\n",
              "Assessment           12\n",
              "Asset Id              1\n",
              "Week Range            9\n",
              "Questions           192\n",
              "Risk or Positive      2\n",
              "Risk Rating           3\n",
              "Assessment Date      46\n",
              "Work Group Id         7\n",
              "dtype: int64"
            ]
          },
          "metadata": {},
          "execution_count": 22
        }
      ]
    },
    {
      "cell_type": "code",
      "source": [
        ""
      ],
      "metadata": {
        "id": "jtqump45I_mA"
      },
      "execution_count": 20,
      "outputs": []
    },
    {
      "cell_type": "markdown",
      "source": [
        "# **Exploratory Data Analysis**\n",
        "**Area Id**"
      ],
      "metadata": {
        "id": "DY2IVznvJmE5"
      }
    },
    {
      "cell_type": "code",
      "source": [
        ""
      ],
      "metadata": {
        "id": "07BD-BYwLFJ8"
      },
      "execution_count": null,
      "outputs": []
    }
  ]
}